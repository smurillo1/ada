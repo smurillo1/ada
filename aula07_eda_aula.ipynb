{
 "cells": [
  {
   "cell_type": "markdown",
   "metadata": {},
   "source": [
    "-------------"
   ]
  },
  {
   "cell_type": "markdown",
   "metadata": {},
   "source": [
    "# Exercicio de Sala - PANDAS - Exploração e Análise de Dados - EDA"
   ]
  },
  {
   "cell_type": "markdown",
   "metadata": {},
   "source": [
    "Nesse exercicio trabalharemos com dados fictícios de investidores.\n",
    "\n",
    "São 3 arquivos que devem ser carregados para responder as perguntas abaixo.\n",
    "\n"
   ]
  },
  {
   "cell_type": "markdown",
   "metadata": {},
   "source": [
    "Informações\n",
    "\n",
    "Cadastro:\n",
    "- **id** : Identificação do investidor\n",
    "- **Nome** : Nome completo do investidor \n",
    "- **Sexo** : Feminino ou masculino\n",
    "- **Nasc** : Data de nascimento\n",
    "- **Idade** : Idade do investidor ou responsável\n",
    "- **Email** : E-mail do investidor ou responsável\n",
    "- **Lat_long** : Dados geográficos do investidor\n",
    "- **Job** : Profissão do investidor ou do seu responsável (em inglês)\n",
    "- **Estado** : Estado onde o investidor reside\n",
    "\n",
    "Investimento:\n",
    "- **id** : Identificação do investidor\n",
    "- **Salario** : Renda do investidor ou seu responsável\n",
    "- **Perfil** : Perfil de investimento\n",
    "- **Ativo01, Ativo02, Ativo03, Ativo04, Ativo05, Ativo06, Ativo07** : O quanto de dinheiro o investidor colocou em cada ativo\n",
    "- **Nota1, Nota2** : O quanto o investidor está satisfeito com nossa empresa (2 avaliações)\n",
    "\n",
    "Lembrando que esses dados são irreais e fictícios\n"
   ]
  },
  {
   "cell_type": "markdown",
   "metadata": {},
   "source": [
    "Arquivo cadastro.csv\n",
    "\n",
    "![image.png](attachment:image.png)\n",
    "\n",
    "Arquivo investimento.csv (dividido em 2 partes)\n",
    "\n",
    "![image-2.png](attachment:image-2.png)"
   ]
  },
  {
   "cell_type": "markdown",
   "metadata": {},
   "source": [
    "Pode ser feito o download e carregar localmente ou pode acessar os arquivos pelo link diretamente no pandas:\n",
    "    \n",
    "- https://raw.githubusercontent.com/renatapink/DSdegree/master/Modulo2/Mini_projeto1/cadastro.csv\n",
    "- https://raw.githubusercontent.com/renatapink/DSdegree/master/Modulo2/Mini_projeto1/investimento_parte1.csv\n",
    "- https://raw.githubusercontent.com/renatapink/DSdegree/master/Modulo2/Mini_projeto1/investimento_parte2.csv"
   ]
  },
  {
   "cell_type": "markdown",
   "metadata": {},
   "source": [
    "## 1 - Carregar os arquivos de cadastro, investimento1 e investimento2, e mostrar a quantidade de linhas de cada um, além das informações desses dataframes (por exemplo, o tipo dos dados das coluna)"
   ]
  },
  {
   "cell_type": "code",
   "execution_count": 480,
   "metadata": {},
   "outputs": [],
   "source": [
    "import pandas as pd\n",
    "import datetime as dt\n",
    "pd.options.display.max_columns = 35 #para aumentar a quantidade de colunas a serem visualizadas\n",
    "import numpy as np\n",
    "\n",
    "import matplotlib.pyplot as plt\n",
    "import seaborn as sns"
   ]
  },
  {
   "cell_type": "code",
   "execution_count": 306,
   "metadata": {},
   "outputs": [],
   "source": [
    "cadastro = pd.read_csv(\"https://raw.githubusercontent.com/renatapink/DSdegree/master/Modulo2/Mini_projeto1/cadastro.csv\")\n",
    "investimento1 = pd.read_csv(\"https://raw.githubusercontent.com/renatapink/DSdegree/master/Modulo2/Mini_projeto1/investimento_parte1.csv\")\n",
    "investimento2 = pd.read_csv(\"https://raw.githubusercontent.com/renatapink/DSdegree/master/Modulo2/Mini_projeto1/investimento_parte2.csv\")"
   ]
  },
  {
   "cell_type": "code",
   "execution_count": 307,
   "metadata": {},
   "outputs": [
    {
     "data": {
      "text/html": [
       "<div>\n",
       "<style scoped>\n",
       "    .dataframe tbody tr th:only-of-type {\n",
       "        vertical-align: middle;\n",
       "    }\n",
       "\n",
       "    .dataframe tbody tr th {\n",
       "        vertical-align: top;\n",
       "    }\n",
       "\n",
       "    .dataframe thead th {\n",
       "        text-align: right;\n",
       "    }\n",
       "</style>\n",
       "<table border=\"1\" class=\"dataframe\">\n",
       "  <thead>\n",
       "    <tr style=\"text-align: right;\">\n",
       "      <th></th>\n",
       "      <th>id</th>\n",
       "      <th>Nome</th>\n",
       "      <th>Sexo</th>\n",
       "      <th>Nasc</th>\n",
       "      <th>Idade</th>\n",
       "      <th>Email</th>\n",
       "      <th>Lat_long</th>\n",
       "      <th>Job</th>\n",
       "      <th>Estado</th>\n",
       "    </tr>\n",
       "  </thead>\n",
       "  <tbody>\n",
       "    <tr>\n",
       "      <th>0</th>\n",
       "      <td>id0000001</td>\n",
       "      <td>Eunice Hellen do Vale</td>\n",
       "      <td>Fem</td>\n",
       "      <td>1970-11-12</td>\n",
       "      <td>51</td>\n",
       "      <td>djones@yahoo.com</td>\n",
       "      <td>(Decimal('24.7024355'), Decimal('-28.038258'))</td>\n",
       "      <td>Technical author</td>\n",
       "      <td>TO</td>\n",
       "    </tr>\n",
       "    <tr>\n",
       "      <th>1</th>\n",
       "      <td>id0000002</td>\n",
       "      <td>Sebastião Castelo Branco Júnior</td>\n",
       "      <td>Masc</td>\n",
       "      <td>2019-12-10</td>\n",
       "      <td>2</td>\n",
       "      <td>barnesandrea@yahoo.com</td>\n",
       "      <td>(Decimal('21.8589875'), Decimal('122.830566'))</td>\n",
       "      <td>Biochemist, clinical</td>\n",
       "      <td>DF</td>\n",
       "    </tr>\n",
       "    <tr>\n",
       "      <th>2</th>\n",
       "      <td>id0000003</td>\n",
       "      <td>Romildo Fábio de Carvalho</td>\n",
       "      <td>Masc</td>\n",
       "      <td>2015-12-28</td>\n",
       "      <td>6</td>\n",
       "      <td>walkermichael@yahoo.com</td>\n",
       "      <td>(Decimal('-28.2161525'), Decimal('97.140529'))</td>\n",
       "      <td>Development worker, international aid</td>\n",
       "      <td>DF</td>\n",
       "    </tr>\n",
       "    <tr>\n",
       "      <th>3</th>\n",
       "      <td>id0000004</td>\n",
       "      <td>Lana Albina de Lemos Mumy</td>\n",
       "      <td>Fem</td>\n",
       "      <td>1993-05-03</td>\n",
       "      <td>28</td>\n",
       "      <td>cobbangela@hotmail.com</td>\n",
       "      <td>(Decimal('-40.8557635'), Decimal('-2.936099'))</td>\n",
       "      <td>Estate manager/land agent</td>\n",
       "      <td>DF</td>\n",
       "    </tr>\n",
       "    <tr>\n",
       "      <th>4</th>\n",
       "      <td>id0000005</td>\n",
       "      <td>Rose Elisângela Vyrnium de Moura</td>\n",
       "      <td>Fem</td>\n",
       "      <td>1984-06-10</td>\n",
       "      <td>37</td>\n",
       "      <td>crawfordcraig@yahoo.com</td>\n",
       "      <td>(Decimal('-20.2620885'), Decimal('104.349223'))</td>\n",
       "      <td>Chartered public finance accountant</td>\n",
       "      <td>MS</td>\n",
       "    </tr>\n",
       "  </tbody>\n",
       "</table>\n",
       "</div>"
      ],
      "text/plain": [
       "          id                              Nome  Sexo        Nasc  Idade  \\\n",
       "0  id0000001             Eunice Hellen do Vale   Fem  1970-11-12     51   \n",
       "1  id0000002   Sebastião Castelo Branco Júnior  Masc  2019-12-10      2   \n",
       "2  id0000003         Romildo Fábio de Carvalho  Masc  2015-12-28      6   \n",
       "3  id0000004         Lana Albina de Lemos Mumy   Fem  1993-05-03     28   \n",
       "4  id0000005  Rose Elisângela Vyrnium de Moura   Fem  1984-06-10     37   \n",
       "\n",
       "                     Email                                         Lat_long  \\\n",
       "0         djones@yahoo.com   (Decimal('24.7024355'), Decimal('-28.038258'))   \n",
       "1   barnesandrea@yahoo.com   (Decimal('21.8589875'), Decimal('122.830566'))   \n",
       "2  walkermichael@yahoo.com   (Decimal('-28.2161525'), Decimal('97.140529'))   \n",
       "3   cobbangela@hotmail.com   (Decimal('-40.8557635'), Decimal('-2.936099'))   \n",
       "4  crawfordcraig@yahoo.com  (Decimal('-20.2620885'), Decimal('104.349223'))   \n",
       "\n",
       "                                     Job Estado  \n",
       "0                       Technical author     TO  \n",
       "1                   Biochemist, clinical     DF  \n",
       "2  Development worker, international aid     DF  \n",
       "3              Estate manager/land agent     DF  \n",
       "4    Chartered public finance accountant     MS  "
      ]
     },
     "execution_count": 307,
     "metadata": {},
     "output_type": "execute_result"
    }
   ],
   "source": [
    "cadastro.head()"
   ]
  },
  {
   "cell_type": "code",
   "execution_count": 308,
   "metadata": {},
   "outputs": [
    {
     "data": {
      "text/html": [
       "<div>\n",
       "<style scoped>\n",
       "    .dataframe tbody tr th:only-of-type {\n",
       "        vertical-align: middle;\n",
       "    }\n",
       "\n",
       "    .dataframe tbody tr th {\n",
       "        vertical-align: top;\n",
       "    }\n",
       "\n",
       "    .dataframe thead th {\n",
       "        text-align: right;\n",
       "    }\n",
       "</style>\n",
       "<table border=\"1\" class=\"dataframe\">\n",
       "  <thead>\n",
       "    <tr style=\"text-align: right;\">\n",
       "      <th></th>\n",
       "      <th>id</th>\n",
       "      <th>Salario</th>\n",
       "      <th>Perfil</th>\n",
       "      <th>Ativo01</th>\n",
       "      <th>Ativo02</th>\n",
       "      <th>Ativo03</th>\n",
       "      <th>Ativo04</th>\n",
       "      <th>Ativo05</th>\n",
       "      <th>Ativo06</th>\n",
       "      <th>Ativo07</th>\n",
       "      <th>Nota1</th>\n",
       "      <th>Nota2</th>\n",
       "    </tr>\n",
       "  </thead>\n",
       "  <tbody>\n",
       "    <tr>\n",
       "      <th>0</th>\n",
       "      <td>id0011529</td>\n",
       "      <td>$2.25</td>\n",
       "      <td>Agressivo</td>\n",
       "      <td>1311.38</td>\n",
       "      <td>NaN</td>\n",
       "      <td>NaN</td>\n",
       "      <td>29267.48</td>\n",
       "      <td>4993.30</td>\n",
       "      <td>NaN</td>\n",
       "      <td>506.40</td>\n",
       "      <td>73.007216</td>\n",
       "      <td>30.025005</td>\n",
       "    </tr>\n",
       "    <tr>\n",
       "      <th>1</th>\n",
       "      <td>id0030644</td>\n",
       "      <td>$24.57</td>\n",
       "      <td>Agressivo</td>\n",
       "      <td>1007.38</td>\n",
       "      <td>4846.66</td>\n",
       "      <td>2717.82</td>\n",
       "      <td>12532.15</td>\n",
       "      <td>4282.98</td>\n",
       "      <td>NaN</td>\n",
       "      <td>499.93</td>\n",
       "      <td>20.000123</td>\n",
       "      <td>29.477728</td>\n",
       "    </tr>\n",
       "    <tr>\n",
       "      <th>2</th>\n",
       "      <td>id0019311</td>\n",
       "      <td>$367.53</td>\n",
       "      <td>Moderado</td>\n",
       "      <td>1128.99</td>\n",
       "      <td>4668.94</td>\n",
       "      <td>3092.60</td>\n",
       "      <td>9777.77</td>\n",
       "      <td>4246.30</td>\n",
       "      <td>2007.83</td>\n",
       "      <td>509.50</td>\n",
       "      <td>24.901450</td>\n",
       "      <td>49.659852</td>\n",
       "    </tr>\n",
       "    <tr>\n",
       "      <th>3</th>\n",
       "      <td>id0036705</td>\n",
       "      <td>$23.26</td>\n",
       "      <td>Moderado</td>\n",
       "      <td>1185.26</td>\n",
       "      <td>4782.17</td>\n",
       "      <td>2669.05</td>\n",
       "      <td>14047.87</td>\n",
       "      <td>6026.84</td>\n",
       "      <td>2064.09</td>\n",
       "      <td>489.82</td>\n",
       "      <td>14.246718</td>\n",
       "      <td>29.271206</td>\n",
       "    </tr>\n",
       "    <tr>\n",
       "      <th>4</th>\n",
       "      <td>id0001368</td>\n",
       "      <td>$6.31</td>\n",
       "      <td>Conservador</td>\n",
       "      <td>957.64</td>\n",
       "      <td>5585.52</td>\n",
       "      <td>NaN</td>\n",
       "      <td>5067.08</td>\n",
       "      <td>4030.51</td>\n",
       "      <td>2022.61</td>\n",
       "      <td>507.39</td>\n",
       "      <td>5.922253</td>\n",
       "      <td>11.840601</td>\n",
       "    </tr>\n",
       "  </tbody>\n",
       "</table>\n",
       "</div>"
      ],
      "text/plain": [
       "          id  Salario       Perfil  Ativo01  Ativo02  Ativo03   Ativo04  \\\n",
       "0  id0011529    $2.25    Agressivo  1311.38      NaN      NaN  29267.48   \n",
       "1  id0030644   $24.57    Agressivo  1007.38  4846.66  2717.82  12532.15   \n",
       "2  id0019311  $367.53     Moderado  1128.99  4668.94  3092.60   9777.77   \n",
       "3  id0036705   $23.26     Moderado  1185.26  4782.17  2669.05  14047.87   \n",
       "4  id0001368    $6.31  Conservador   957.64  5585.52      NaN   5067.08   \n",
       "\n",
       "   Ativo05  Ativo06  Ativo07      Nota1      Nota2  \n",
       "0  4993.30      NaN   506.40  73.007216  30.025005  \n",
       "1  4282.98      NaN   499.93  20.000123  29.477728  \n",
       "2  4246.30  2007.83   509.50  24.901450  49.659852  \n",
       "3  6026.84  2064.09   489.82  14.246718  29.271206  \n",
       "4  4030.51  2022.61   507.39   5.922253  11.840601  "
      ]
     },
     "execution_count": 308,
     "metadata": {},
     "output_type": "execute_result"
    }
   ],
   "source": [
    "investimento1.head()"
   ]
  },
  {
   "cell_type": "code",
   "execution_count": 309,
   "metadata": {},
   "outputs": [
    {
     "data": {
      "text/html": [
       "<div>\n",
       "<style scoped>\n",
       "    .dataframe tbody tr th:only-of-type {\n",
       "        vertical-align: middle;\n",
       "    }\n",
       "\n",
       "    .dataframe tbody tr th {\n",
       "        vertical-align: top;\n",
       "    }\n",
       "\n",
       "    .dataframe thead th {\n",
       "        text-align: right;\n",
       "    }\n",
       "</style>\n",
       "<table border=\"1\" class=\"dataframe\">\n",
       "  <thead>\n",
       "    <tr style=\"text-align: right;\">\n",
       "      <th></th>\n",
       "      <th>id</th>\n",
       "      <th>Salario</th>\n",
       "      <th>Perfil</th>\n",
       "      <th>Ativo01</th>\n",
       "      <th>Ativo02</th>\n",
       "      <th>Ativo03</th>\n",
       "      <th>Ativo04</th>\n",
       "      <th>Ativo05</th>\n",
       "      <th>Ativo06</th>\n",
       "      <th>Ativo07</th>\n",
       "      <th>Nota1</th>\n",
       "      <th>Nota2</th>\n",
       "    </tr>\n",
       "  </thead>\n",
       "  <tbody>\n",
       "    <tr>\n",
       "      <th>0</th>\n",
       "      <td>id0000859</td>\n",
       "      <td>$51483.81</td>\n",
       "      <td>Agressivo</td>\n",
       "      <td>1273.95</td>\n",
       "      <td>5080.37</td>\n",
       "      <td>3565.44</td>\n",
       "      <td>NaN</td>\n",
       "      <td>5635.72</td>\n",
       "      <td>NaN</td>\n",
       "      <td>513.38</td>\n",
       "      <td>47.599278</td>\n",
       "      <td>7.057028</td>\n",
       "    </tr>\n",
       "    <tr>\n",
       "      <th>1</th>\n",
       "      <td>id0022202</td>\n",
       "      <td>$457.43</td>\n",
       "      <td>Conservador</td>\n",
       "      <td>1121.09</td>\n",
       "      <td>4927.51</td>\n",
       "      <td>3911.58</td>\n",
       "      <td>5511.7</td>\n",
       "      <td>5593.40</td>\n",
       "      <td>NaN</td>\n",
       "      <td>497.28</td>\n",
       "      <td>37.353757</td>\n",
       "      <td>61.516665</td>\n",
       "    </tr>\n",
       "    <tr>\n",
       "      <th>2</th>\n",
       "      <td>id0002056</td>\n",
       "      <td>$93245.46</td>\n",
       "      <td>Moderado</td>\n",
       "      <td>NaN</td>\n",
       "      <td>5283.71</td>\n",
       "      <td>2914.76</td>\n",
       "      <td>NaN</td>\n",
       "      <td>4707.33</td>\n",
       "      <td>NaN</td>\n",
       "      <td>499.06</td>\n",
       "      <td>98.895407</td>\n",
       "      <td>45.197866</td>\n",
       "    </tr>\n",
       "    <tr>\n",
       "      <th>3</th>\n",
       "      <td>id0005674</td>\n",
       "      <td>$3044.00</td>\n",
       "      <td>Agressivo</td>\n",
       "      <td>1353.76</td>\n",
       "      <td>5827.28</td>\n",
       "      <td>2998.24</td>\n",
       "      <td>16341.7</td>\n",
       "      <td>4712.65</td>\n",
       "      <td>2007.44</td>\n",
       "      <td>515.10</td>\n",
       "      <td>50.658089</td>\n",
       "      <td>65.660735</td>\n",
       "    </tr>\n",
       "    <tr>\n",
       "      <th>4</th>\n",
       "      <td>id0004777</td>\n",
       "      <td>$880.30</td>\n",
       "      <td>Agressivo</td>\n",
       "      <td>NaN</td>\n",
       "      <td>5695.77</td>\n",
       "      <td>3525.98</td>\n",
       "      <td>NaN</td>\n",
       "      <td>4147.29</td>\n",
       "      <td>NaN</td>\n",
       "      <td>506.77</td>\n",
       "      <td>72.993882</td>\n",
       "      <td>55.530580</td>\n",
       "    </tr>\n",
       "  </tbody>\n",
       "</table>\n",
       "</div>"
      ],
      "text/plain": [
       "          id    Salario       Perfil  Ativo01  Ativo02  Ativo03  Ativo04  \\\n",
       "0  id0000859  $51483.81    Agressivo  1273.95  5080.37  3565.44      NaN   \n",
       "1  id0022202    $457.43  Conservador  1121.09  4927.51  3911.58   5511.7   \n",
       "2  id0002056  $93245.46     Moderado      NaN  5283.71  2914.76      NaN   \n",
       "3  id0005674   $3044.00    Agressivo  1353.76  5827.28  2998.24  16341.7   \n",
       "4  id0004777    $880.30    Agressivo      NaN  5695.77  3525.98      NaN   \n",
       "\n",
       "   Ativo05  Ativo06  Ativo07      Nota1      Nota2  \n",
       "0  5635.72      NaN   513.38  47.599278   7.057028  \n",
       "1  5593.40      NaN   497.28  37.353757  61.516665  \n",
       "2  4707.33      NaN   499.06  98.895407  45.197866  \n",
       "3  4712.65  2007.44   515.10  50.658089  65.660735  \n",
       "4  4147.29      NaN   506.77  72.993882  55.530580  "
      ]
     },
     "execution_count": 309,
     "metadata": {},
     "output_type": "execute_result"
    }
   ],
   "source": [
    "investimento2.head()"
   ]
  },
  {
   "cell_type": "markdown",
   "metadata": {},
   "source": [
    "## 2 - Juntar os dataframes de investimento1 e investimento2 em um só e ver a quantidade de linhas"
   ]
  },
  {
   "cell_type": "markdown",
   "metadata": {},
   "source": [
    "Criar um novo dataframe  \n",
    "Dica: https://pandas.pydata.org/pandas-docs/stable/user_guide/merging.html"
   ]
  },
  {
   "cell_type": "code",
   "execution_count": 310,
   "metadata": {},
   "outputs": [],
   "source": [
    "investimento = pd.concat([investimento1, investimento2], axis=0, ignore_index=True)\n"
   ]
  },
  {
   "cell_type": "code",
   "execution_count": 311,
   "metadata": {},
   "outputs": [
    {
     "data": {
      "text/html": [
       "<div>\n",
       "<style scoped>\n",
       "    .dataframe tbody tr th:only-of-type {\n",
       "        vertical-align: middle;\n",
       "    }\n",
       "\n",
       "    .dataframe tbody tr th {\n",
       "        vertical-align: top;\n",
       "    }\n",
       "\n",
       "    .dataframe thead th {\n",
       "        text-align: right;\n",
       "    }\n",
       "</style>\n",
       "<table border=\"1\" class=\"dataframe\">\n",
       "  <thead>\n",
       "    <tr style=\"text-align: right;\">\n",
       "      <th></th>\n",
       "      <th>id</th>\n",
       "      <th>Salario</th>\n",
       "      <th>Perfil</th>\n",
       "      <th>Ativo01</th>\n",
       "      <th>Ativo02</th>\n",
       "      <th>Ativo03</th>\n",
       "      <th>Ativo04</th>\n",
       "      <th>Ativo05</th>\n",
       "      <th>Ativo06</th>\n",
       "      <th>Ativo07</th>\n",
       "      <th>Nota1</th>\n",
       "      <th>Nota2</th>\n",
       "    </tr>\n",
       "  </thead>\n",
       "  <tbody>\n",
       "    <tr>\n",
       "      <th>0</th>\n",
       "      <td>id0011529</td>\n",
       "      <td>$2.25</td>\n",
       "      <td>Agressivo</td>\n",
       "      <td>1311.38</td>\n",
       "      <td>NaN</td>\n",
       "      <td>NaN</td>\n",
       "      <td>29267.48</td>\n",
       "      <td>4993.30</td>\n",
       "      <td>NaN</td>\n",
       "      <td>506.40</td>\n",
       "      <td>73.007216</td>\n",
       "      <td>30.025005</td>\n",
       "    </tr>\n",
       "    <tr>\n",
       "      <th>1</th>\n",
       "      <td>id0030644</td>\n",
       "      <td>$24.57</td>\n",
       "      <td>Agressivo</td>\n",
       "      <td>1007.38</td>\n",
       "      <td>4846.66</td>\n",
       "      <td>2717.82</td>\n",
       "      <td>12532.15</td>\n",
       "      <td>4282.98</td>\n",
       "      <td>NaN</td>\n",
       "      <td>499.93</td>\n",
       "      <td>20.000123</td>\n",
       "      <td>29.477728</td>\n",
       "    </tr>\n",
       "    <tr>\n",
       "      <th>2</th>\n",
       "      <td>id0019311</td>\n",
       "      <td>$367.53</td>\n",
       "      <td>Moderado</td>\n",
       "      <td>1128.99</td>\n",
       "      <td>4668.94</td>\n",
       "      <td>3092.60</td>\n",
       "      <td>9777.77</td>\n",
       "      <td>4246.30</td>\n",
       "      <td>2007.83</td>\n",
       "      <td>509.50</td>\n",
       "      <td>24.901450</td>\n",
       "      <td>49.659852</td>\n",
       "    </tr>\n",
       "    <tr>\n",
       "      <th>3</th>\n",
       "      <td>id0036705</td>\n",
       "      <td>$23.26</td>\n",
       "      <td>Moderado</td>\n",
       "      <td>1185.26</td>\n",
       "      <td>4782.17</td>\n",
       "      <td>2669.05</td>\n",
       "      <td>14047.87</td>\n",
       "      <td>6026.84</td>\n",
       "      <td>2064.09</td>\n",
       "      <td>489.82</td>\n",
       "      <td>14.246718</td>\n",
       "      <td>29.271206</td>\n",
       "    </tr>\n",
       "    <tr>\n",
       "      <th>4</th>\n",
       "      <td>id0001368</td>\n",
       "      <td>$6.31</td>\n",
       "      <td>Conservador</td>\n",
       "      <td>957.64</td>\n",
       "      <td>5585.52</td>\n",
       "      <td>NaN</td>\n",
       "      <td>5067.08</td>\n",
       "      <td>4030.51</td>\n",
       "      <td>2022.61</td>\n",
       "      <td>507.39</td>\n",
       "      <td>5.922253</td>\n",
       "      <td>11.840601</td>\n",
       "    </tr>\n",
       "  </tbody>\n",
       "</table>\n",
       "</div>"
      ],
      "text/plain": [
       "          id  Salario       Perfil  Ativo01  Ativo02  Ativo03   Ativo04  \\\n",
       "0  id0011529    $2.25    Agressivo  1311.38      NaN      NaN  29267.48   \n",
       "1  id0030644   $24.57    Agressivo  1007.38  4846.66  2717.82  12532.15   \n",
       "2  id0019311  $367.53     Moderado  1128.99  4668.94  3092.60   9777.77   \n",
       "3  id0036705   $23.26     Moderado  1185.26  4782.17  2669.05  14047.87   \n",
       "4  id0001368    $6.31  Conservador   957.64  5585.52      NaN   5067.08   \n",
       "\n",
       "   Ativo05  Ativo06  Ativo07      Nota1      Nota2  \n",
       "0  4993.30      NaN   506.40  73.007216  30.025005  \n",
       "1  4282.98      NaN   499.93  20.000123  29.477728  \n",
       "2  4246.30  2007.83   509.50  24.901450  49.659852  \n",
       "3  6026.84  2064.09   489.82  14.246718  29.271206  \n",
       "4  4030.51  2022.61   507.39   5.922253  11.840601  "
      ]
     },
     "execution_count": 311,
     "metadata": {},
     "output_type": "execute_result"
    }
   ],
   "source": [
    "investimento.head()"
   ]
  },
  {
   "cell_type": "code",
   "execution_count": 312,
   "metadata": {},
   "outputs": [
    {
     "data": {
      "text/plain": [
       "(20000, 12)"
      ]
     },
     "execution_count": 312,
     "metadata": {},
     "output_type": "execute_result"
    }
   ],
   "source": [
    "investimento1.shape"
   ]
  },
  {
   "cell_type": "code",
   "execution_count": 313,
   "metadata": {},
   "outputs": [
    {
     "data": {
      "text/plain": [
       "(24052, 12)"
      ]
     },
     "execution_count": 313,
     "metadata": {},
     "output_type": "execute_result"
    }
   ],
   "source": [
    "investimento2.shape"
   ]
  },
  {
   "cell_type": "code",
   "execution_count": 314,
   "metadata": {},
   "outputs": [
    {
     "name": "stdout",
     "output_type": "stream",
     "text": [
      "<class 'pandas.core.frame.DataFrame'>\n",
      "RangeIndex: 44052 entries, 0 to 44051\n",
      "Data columns (total 12 columns):\n",
      " #   Column   Non-Null Count  Dtype  \n",
      "---  ------   --------------  -----  \n",
      " 0   id       44052 non-null  object \n",
      " 1   Salario  44052 non-null  object \n",
      " 2   Perfil   44052 non-null  object \n",
      " 3   Ativo01  33006 non-null  float64\n",
      " 4   Ativo02  37102 non-null  float64\n",
      " 5   Ativo03  37009 non-null  float64\n",
      " 6   Ativo04  30484 non-null  float64\n",
      " 7   Ativo05  37040 non-null  float64\n",
      " 8   Ativo06  21827 non-null  float64\n",
      " 9   Ativo07  44052 non-null  float64\n",
      " 10  Nota1    40641 non-null  float64\n",
      " 11  Nota2    41764 non-null  float64\n",
      "dtypes: float64(9), object(3)\n",
      "memory usage: 4.0+ MB\n"
     ]
    }
   ],
   "source": [
    "investimento.info()"
   ]
  },
  {
   "cell_type": "code",
   "execution_count": 315,
   "metadata": {},
   "outputs": [
    {
     "data": {
      "text/html": [
       "<div>\n",
       "<style scoped>\n",
       "    .dataframe tbody tr th:only-of-type {\n",
       "        vertical-align: middle;\n",
       "    }\n",
       "\n",
       "    .dataframe tbody tr th {\n",
       "        vertical-align: top;\n",
       "    }\n",
       "\n",
       "    .dataframe thead th {\n",
       "        text-align: right;\n",
       "    }\n",
       "</style>\n",
       "<table border=\"1\" class=\"dataframe\">\n",
       "  <thead>\n",
       "    <tr style=\"text-align: right;\">\n",
       "      <th></th>\n",
       "      <th>id</th>\n",
       "      <th>Nome</th>\n",
       "      <th>Sexo</th>\n",
       "      <th>Nasc</th>\n",
       "      <th>Idade</th>\n",
       "      <th>Email</th>\n",
       "      <th>Lat_long</th>\n",
       "      <th>Job</th>\n",
       "      <th>Estado</th>\n",
       "    </tr>\n",
       "  </thead>\n",
       "  <tbody>\n",
       "    <tr>\n",
       "      <th>0</th>\n",
       "      <td>id0000001</td>\n",
       "      <td>Eunice Hellen do Vale</td>\n",
       "      <td>Fem</td>\n",
       "      <td>1970-11-12</td>\n",
       "      <td>51</td>\n",
       "      <td>djones@yahoo.com</td>\n",
       "      <td>(Decimal('24.7024355'), Decimal('-28.038258'))</td>\n",
       "      <td>Technical author</td>\n",
       "      <td>TO</td>\n",
       "    </tr>\n",
       "    <tr>\n",
       "      <th>1</th>\n",
       "      <td>id0000002</td>\n",
       "      <td>Sebastião Castelo Branco Júnior</td>\n",
       "      <td>Masc</td>\n",
       "      <td>2019-12-10</td>\n",
       "      <td>2</td>\n",
       "      <td>barnesandrea@yahoo.com</td>\n",
       "      <td>(Decimal('21.8589875'), Decimal('122.830566'))</td>\n",
       "      <td>Biochemist, clinical</td>\n",
       "      <td>DF</td>\n",
       "    </tr>\n",
       "    <tr>\n",
       "      <th>2</th>\n",
       "      <td>id0000003</td>\n",
       "      <td>Romildo Fábio de Carvalho</td>\n",
       "      <td>Masc</td>\n",
       "      <td>2015-12-28</td>\n",
       "      <td>6</td>\n",
       "      <td>walkermichael@yahoo.com</td>\n",
       "      <td>(Decimal('-28.2161525'), Decimal('97.140529'))</td>\n",
       "      <td>Development worker, international aid</td>\n",
       "      <td>DF</td>\n",
       "    </tr>\n",
       "    <tr>\n",
       "      <th>3</th>\n",
       "      <td>id0000004</td>\n",
       "      <td>Lana Albina de Lemos Mumy</td>\n",
       "      <td>Fem</td>\n",
       "      <td>1993-05-03</td>\n",
       "      <td>28</td>\n",
       "      <td>cobbangela@hotmail.com</td>\n",
       "      <td>(Decimal('-40.8557635'), Decimal('-2.936099'))</td>\n",
       "      <td>Estate manager/land agent</td>\n",
       "      <td>DF</td>\n",
       "    </tr>\n",
       "    <tr>\n",
       "      <th>4</th>\n",
       "      <td>id0000005</td>\n",
       "      <td>Rose Elisângela Vyrnium de Moura</td>\n",
       "      <td>Fem</td>\n",
       "      <td>1984-06-10</td>\n",
       "      <td>37</td>\n",
       "      <td>crawfordcraig@yahoo.com</td>\n",
       "      <td>(Decimal('-20.2620885'), Decimal('104.349223'))</td>\n",
       "      <td>Chartered public finance accountant</td>\n",
       "      <td>MS</td>\n",
       "    </tr>\n",
       "  </tbody>\n",
       "</table>\n",
       "</div>"
      ],
      "text/plain": [
       "          id                              Nome  Sexo        Nasc  Idade  \\\n",
       "0  id0000001             Eunice Hellen do Vale   Fem  1970-11-12     51   \n",
       "1  id0000002   Sebastião Castelo Branco Júnior  Masc  2019-12-10      2   \n",
       "2  id0000003         Romildo Fábio de Carvalho  Masc  2015-12-28      6   \n",
       "3  id0000004         Lana Albina de Lemos Mumy   Fem  1993-05-03     28   \n",
       "4  id0000005  Rose Elisângela Vyrnium de Moura   Fem  1984-06-10     37   \n",
       "\n",
       "                     Email                                         Lat_long  \\\n",
       "0         djones@yahoo.com   (Decimal('24.7024355'), Decimal('-28.038258'))   \n",
       "1   barnesandrea@yahoo.com   (Decimal('21.8589875'), Decimal('122.830566'))   \n",
       "2  walkermichael@yahoo.com   (Decimal('-28.2161525'), Decimal('97.140529'))   \n",
       "3   cobbangela@hotmail.com   (Decimal('-40.8557635'), Decimal('-2.936099'))   \n",
       "4  crawfordcraig@yahoo.com  (Decimal('-20.2620885'), Decimal('104.349223'))   \n",
       "\n",
       "                                     Job Estado  \n",
       "0                       Technical author     TO  \n",
       "1                   Biochemist, clinical     DF  \n",
       "2  Development worker, international aid     DF  \n",
       "3              Estate manager/land agent     DF  \n",
       "4    Chartered public finance accountant     MS  "
      ]
     },
     "execution_count": 315,
     "metadata": {},
     "output_type": "execute_result"
    }
   ],
   "source": [
    "cadastro.head()"
   ]
  },
  {
   "cell_type": "markdown",
   "metadata": {},
   "source": [
    "## 3 - Crie um novo dataframe eliminando as linhas duplicadas do item anterior"
   ]
  },
  {
   "cell_type": "code",
   "execution_count": 316,
   "metadata": {},
   "outputs": [
    {
     "data": {
      "text/plain": [
       "5298"
      ]
     },
     "execution_count": 316,
     "metadata": {},
     "output_type": "execute_result"
    }
   ],
   "source": [
    "investimento.duplicated().sum()"
   ]
  },
  {
   "cell_type": "code",
   "execution_count": 317,
   "metadata": {},
   "outputs": [],
   "source": [
    "investimento.drop_duplicates(inplace=True)"
   ]
  },
  {
   "cell_type": "markdown",
   "metadata": {},
   "source": [
    "## 4 - Junte o dataframe de investimento com o de cadastro, criando um novo dataframe\n",
    "Dica: use a coluna id como chave para juntar os dois dataframes"
   ]
  },
  {
   "cell_type": "code",
   "execution_count": 318,
   "metadata": {},
   "outputs": [],
   "source": [
    "df = pd.merge(investimento, cadastro, how='left',on='id')"
   ]
  },
  {
   "cell_type": "code",
   "execution_count": 319,
   "metadata": {},
   "outputs": [
    {
     "data": {
      "text/html": [
       "<div>\n",
       "<style scoped>\n",
       "    .dataframe tbody tr th:only-of-type {\n",
       "        vertical-align: middle;\n",
       "    }\n",
       "\n",
       "    .dataframe tbody tr th {\n",
       "        vertical-align: top;\n",
       "    }\n",
       "\n",
       "    .dataframe thead th {\n",
       "        text-align: right;\n",
       "    }\n",
       "</style>\n",
       "<table border=\"1\" class=\"dataframe\">\n",
       "  <thead>\n",
       "    <tr style=\"text-align: right;\">\n",
       "      <th></th>\n",
       "      <th>id</th>\n",
       "      <th>Salario</th>\n",
       "      <th>Perfil</th>\n",
       "      <th>Ativo01</th>\n",
       "      <th>Ativo02</th>\n",
       "      <th>Ativo03</th>\n",
       "      <th>Ativo04</th>\n",
       "      <th>Ativo05</th>\n",
       "      <th>Ativo06</th>\n",
       "      <th>Ativo07</th>\n",
       "      <th>Nota1</th>\n",
       "      <th>Nota2</th>\n",
       "      <th>Nome</th>\n",
       "      <th>Sexo</th>\n",
       "      <th>Nasc</th>\n",
       "      <th>Idade</th>\n",
       "      <th>Email</th>\n",
       "      <th>Lat_long</th>\n",
       "      <th>Job</th>\n",
       "      <th>Estado</th>\n",
       "    </tr>\n",
       "  </thead>\n",
       "  <tbody>\n",
       "    <tr>\n",
       "      <th>0</th>\n",
       "      <td>id0011529</td>\n",
       "      <td>$2.25</td>\n",
       "      <td>Agressivo</td>\n",
       "      <td>1311.38</td>\n",
       "      <td>NaN</td>\n",
       "      <td>NaN</td>\n",
       "      <td>29267.48</td>\n",
       "      <td>4993.30</td>\n",
       "      <td>NaN</td>\n",
       "      <td>506.40</td>\n",
       "      <td>73.007216</td>\n",
       "      <td>30.025005</td>\n",
       "      <td>Valquíria Joyce dos Santos</td>\n",
       "      <td>Fem</td>\n",
       "      <td>2000-09-26</td>\n",
       "      <td>21</td>\n",
       "      <td>nicholasjohnson@yahoo.com</td>\n",
       "      <td>(Decimal('-52.8830995'), Decimal('-8.434876'))</td>\n",
       "      <td>Therapist, occupational</td>\n",
       "      <td>PA</td>\n",
       "    </tr>\n",
       "    <tr>\n",
       "      <th>1</th>\n",
       "      <td>id0030644</td>\n",
       "      <td>$24.57</td>\n",
       "      <td>Agressivo</td>\n",
       "      <td>1007.38</td>\n",
       "      <td>4846.66</td>\n",
       "      <td>2717.82</td>\n",
       "      <td>12532.15</td>\n",
       "      <td>4282.98</td>\n",
       "      <td>NaN</td>\n",
       "      <td>499.93</td>\n",
       "      <td>20.000123</td>\n",
       "      <td>29.477728</td>\n",
       "      <td>Denise Milani Ribeiro da Silva</td>\n",
       "      <td>Fem</td>\n",
       "      <td>2005-10-13</td>\n",
       "      <td>16</td>\n",
       "      <td>lauren80@yahoo.com</td>\n",
       "      <td>(Decimal('64.396429'), Decimal('44.389990'))</td>\n",
       "      <td>Scientist, clinical (histocompatibility and im...</td>\n",
       "      <td>PE</td>\n",
       "    </tr>\n",
       "    <tr>\n",
       "      <th>2</th>\n",
       "      <td>id0019311</td>\n",
       "      <td>$367.53</td>\n",
       "      <td>Moderado</td>\n",
       "      <td>1128.99</td>\n",
       "      <td>4668.94</td>\n",
       "      <td>3092.60</td>\n",
       "      <td>9777.77</td>\n",
       "      <td>4246.30</td>\n",
       "      <td>2007.83</td>\n",
       "      <td>509.50</td>\n",
       "      <td>24.901450</td>\n",
       "      <td>49.659852</td>\n",
       "      <td>Olívia Eulália do Piauí Hafunihi</td>\n",
       "      <td>Fem</td>\n",
       "      <td>2011-10-20</td>\n",
       "      <td>10</td>\n",
       "      <td>thompsonanthony@gmail.com</td>\n",
       "      <td>(Decimal('-53.0865265'), Decimal('-44.234258'))</td>\n",
       "      <td>Engineer, mining</td>\n",
       "      <td>TO</td>\n",
       "    </tr>\n",
       "    <tr>\n",
       "      <th>3</th>\n",
       "      <td>id0036705</td>\n",
       "      <td>$23.26</td>\n",
       "      <td>Moderado</td>\n",
       "      <td>1185.26</td>\n",
       "      <td>4782.17</td>\n",
       "      <td>2669.05</td>\n",
       "      <td>14047.87</td>\n",
       "      <td>6026.84</td>\n",
       "      <td>2064.09</td>\n",
       "      <td>489.82</td>\n",
       "      <td>14.246718</td>\n",
       "      <td>29.271206</td>\n",
       "      <td>Karina Tábata Pinhão Mercado Aeirn</td>\n",
       "      <td>Fem</td>\n",
       "      <td>1974-11-07</td>\n",
       "      <td>47</td>\n",
       "      <td>glenscott@gmail.com</td>\n",
       "      <td>(Decimal('35.257681'), Decimal('-168.436745'))</td>\n",
       "      <td>Civil engineer, contracting</td>\n",
       "      <td>AP</td>\n",
       "    </tr>\n",
       "    <tr>\n",
       "      <th>4</th>\n",
       "      <td>id0001368</td>\n",
       "      <td>$6.31</td>\n",
       "      <td>Conservador</td>\n",
       "      <td>957.64</td>\n",
       "      <td>5585.52</td>\n",
       "      <td>NaN</td>\n",
       "      <td>5067.08</td>\n",
       "      <td>4030.51</td>\n",
       "      <td>2022.61</td>\n",
       "      <td>507.39</td>\n",
       "      <td>5.922253</td>\n",
       "      <td>11.840601</td>\n",
       "      <td>Cauê Aloísio da Encarnação Valverde Júnior</td>\n",
       "      <td>Masc</td>\n",
       "      <td>1971-08-20</td>\n",
       "      <td>50</td>\n",
       "      <td>dgraham@yahoo.com</td>\n",
       "      <td>(Decimal('-45.6344855'), Decimal('-34.472278'))</td>\n",
       "      <td>Clothing/textile technologist</td>\n",
       "      <td>ES</td>\n",
       "    </tr>\n",
       "  </tbody>\n",
       "</table>\n",
       "</div>"
      ],
      "text/plain": [
       "          id  Salario       Perfil  Ativo01  Ativo02  Ativo03   Ativo04  \\\n",
       "0  id0011529    $2.25    Agressivo  1311.38      NaN      NaN  29267.48   \n",
       "1  id0030644   $24.57    Agressivo  1007.38  4846.66  2717.82  12532.15   \n",
       "2  id0019311  $367.53     Moderado  1128.99  4668.94  3092.60   9777.77   \n",
       "3  id0036705   $23.26     Moderado  1185.26  4782.17  2669.05  14047.87   \n",
       "4  id0001368    $6.31  Conservador   957.64  5585.52      NaN   5067.08   \n",
       "\n",
       "   Ativo05  Ativo06  Ativo07      Nota1      Nota2  \\\n",
       "0  4993.30      NaN   506.40  73.007216  30.025005   \n",
       "1  4282.98      NaN   499.93  20.000123  29.477728   \n",
       "2  4246.30  2007.83   509.50  24.901450  49.659852   \n",
       "3  6026.84  2064.09   489.82  14.246718  29.271206   \n",
       "4  4030.51  2022.61   507.39   5.922253  11.840601   \n",
       "\n",
       "                                         Nome  Sexo        Nasc  Idade  \\\n",
       "0                  Valquíria Joyce dos Santos   Fem  2000-09-26     21   \n",
       "1              Denise Milani Ribeiro da Silva   Fem  2005-10-13     16   \n",
       "2            Olívia Eulália do Piauí Hafunihi   Fem  2011-10-20     10   \n",
       "3          Karina Tábata Pinhão Mercado Aeirn   Fem  1974-11-07     47   \n",
       "4  Cauê Aloísio da Encarnação Valverde Júnior  Masc  1971-08-20     50   \n",
       "\n",
       "                       Email                                         Lat_long  \\\n",
       "0  nicholasjohnson@yahoo.com   (Decimal('-52.8830995'), Decimal('-8.434876'))   \n",
       "1         lauren80@yahoo.com     (Decimal('64.396429'), Decimal('44.389990'))   \n",
       "2  thompsonanthony@gmail.com  (Decimal('-53.0865265'), Decimal('-44.234258'))   \n",
       "3        glenscott@gmail.com   (Decimal('35.257681'), Decimal('-168.436745'))   \n",
       "4          dgraham@yahoo.com  (Decimal('-45.6344855'), Decimal('-34.472278'))   \n",
       "\n",
       "                                                 Job Estado  \n",
       "0                            Therapist, occupational     PA  \n",
       "1  Scientist, clinical (histocompatibility and im...     PE  \n",
       "2                                   Engineer, mining     TO  \n",
       "3                        Civil engineer, contracting     AP  \n",
       "4                      Clothing/textile technologist     ES  "
      ]
     },
     "execution_count": 319,
     "metadata": {},
     "output_type": "execute_result"
    }
   ],
   "source": [
    "df.head()"
   ]
  },
  {
   "cell_type": "markdown",
   "metadata": {},
   "source": [
    "## 5 - Ordene o dataframe pelo id, de forma crescente e redefina o índice"
   ]
  },
  {
   "cell_type": "code",
   "execution_count": 320,
   "metadata": {},
   "outputs": [
    {
     "data": {
      "text/html": [
       "<div>\n",
       "<style scoped>\n",
       "    .dataframe tbody tr th:only-of-type {\n",
       "        vertical-align: middle;\n",
       "    }\n",
       "\n",
       "    .dataframe tbody tr th {\n",
       "        vertical-align: top;\n",
       "    }\n",
       "\n",
       "    .dataframe thead th {\n",
       "        text-align: right;\n",
       "    }\n",
       "</style>\n",
       "<table border=\"1\" class=\"dataframe\">\n",
       "  <thead>\n",
       "    <tr style=\"text-align: right;\">\n",
       "      <th></th>\n",
       "      <th>id</th>\n",
       "      <th>Salario</th>\n",
       "      <th>Perfil</th>\n",
       "      <th>Ativo01</th>\n",
       "      <th>Ativo02</th>\n",
       "      <th>Ativo03</th>\n",
       "      <th>Ativo04</th>\n",
       "      <th>Ativo05</th>\n",
       "      <th>Ativo06</th>\n",
       "      <th>Ativo07</th>\n",
       "      <th>Nota1</th>\n",
       "      <th>Nota2</th>\n",
       "      <th>Nome</th>\n",
       "      <th>Sexo</th>\n",
       "      <th>Nasc</th>\n",
       "      <th>Idade</th>\n",
       "      <th>Email</th>\n",
       "      <th>Lat_long</th>\n",
       "      <th>Job</th>\n",
       "      <th>Estado</th>\n",
       "    </tr>\n",
       "  </thead>\n",
       "  <tbody>\n",
       "    <tr>\n",
       "      <th>0</th>\n",
       "      <td>id0000001</td>\n",
       "      <td>$63.67</td>\n",
       "      <td>Moderado</td>\n",
       "      <td>1174.27</td>\n",
       "      <td>4980.98</td>\n",
       "      <td>2638.24</td>\n",
       "      <td>NaN</td>\n",
       "      <td>4480.91</td>\n",
       "      <td>2329.72</td>\n",
       "      <td>480.72</td>\n",
       "      <td>79.600372</td>\n",
       "      <td>9.802620</td>\n",
       "      <td>Eunice Hellen do Vale</td>\n",
       "      <td>Fem</td>\n",
       "      <td>1970-11-12</td>\n",
       "      <td>51</td>\n",
       "      <td>djones@yahoo.com</td>\n",
       "      <td>(Decimal('24.7024355'), Decimal('-28.038258'))</td>\n",
       "      <td>Technical author</td>\n",
       "      <td>TO</td>\n",
       "    </tr>\n",
       "    <tr>\n",
       "      <th>1</th>\n",
       "      <td>id0000002</td>\n",
       "      <td>$21.96</td>\n",
       "      <td>Moderado</td>\n",
       "      <td>842.12</td>\n",
       "      <td>5646.09</td>\n",
       "      <td>3336.07</td>\n",
       "      <td>NaN</td>\n",
       "      <td>5624.22</td>\n",
       "      <td>2669.98</td>\n",
       "      <td>504.17</td>\n",
       "      <td>44.406893</td>\n",
       "      <td>90.512871</td>\n",
       "      <td>Sebastião Castelo Branco Júnior</td>\n",
       "      <td>Masc</td>\n",
       "      <td>2019-12-10</td>\n",
       "      <td>2</td>\n",
       "      <td>barnesandrea@yahoo.com</td>\n",
       "      <td>(Decimal('21.8589875'), Decimal('122.830566'))</td>\n",
       "      <td>Biochemist, clinical</td>\n",
       "      <td>DF</td>\n",
       "    </tr>\n",
       "    <tr>\n",
       "      <th>2</th>\n",
       "      <td>id0000003</td>\n",
       "      <td>$62497.64</td>\n",
       "      <td>Agressivo</td>\n",
       "      <td>818.81</td>\n",
       "      <td>5516.52</td>\n",
       "      <td>3396.64</td>\n",
       "      <td>NaN</td>\n",
       "      <td>5033.83</td>\n",
       "      <td>2229.45</td>\n",
       "      <td>523.12</td>\n",
       "      <td>44.020024</td>\n",
       "      <td>65.060941</td>\n",
       "      <td>Romildo Fábio de Carvalho</td>\n",
       "      <td>Masc</td>\n",
       "      <td>2015-12-28</td>\n",
       "      <td>6</td>\n",
       "      <td>walkermichael@yahoo.com</td>\n",
       "      <td>(Decimal('-28.2161525'), Decimal('97.140529'))</td>\n",
       "      <td>Development worker, international aid</td>\n",
       "      <td>DF</td>\n",
       "    </tr>\n",
       "    <tr>\n",
       "      <th>3</th>\n",
       "      <td>id0000004</td>\n",
       "      <td>$99878.74</td>\n",
       "      <td>Agressivo</td>\n",
       "      <td>NaN</td>\n",
       "      <td>5258.69</td>\n",
       "      <td>3723.10</td>\n",
       "      <td>NaN</td>\n",
       "      <td>5933.91</td>\n",
       "      <td>NaN</td>\n",
       "      <td>486.05</td>\n",
       "      <td>25.597924</td>\n",
       "      <td>86.548918</td>\n",
       "      <td>Lana Albina de Lemos Mumy</td>\n",
       "      <td>Fem</td>\n",
       "      <td>1993-05-03</td>\n",
       "      <td>28</td>\n",
       "      <td>cobbangela@hotmail.com</td>\n",
       "      <td>(Decimal('-40.8557635'), Decimal('-2.936099'))</td>\n",
       "      <td>Estate manager/land agent</td>\n",
       "      <td>DF</td>\n",
       "    </tr>\n",
       "    <tr>\n",
       "      <th>4</th>\n",
       "      <td>id0000005</td>\n",
       "      <td>$188.01</td>\n",
       "      <td>Conservador</td>\n",
       "      <td>1505.16</td>\n",
       "      <td>6415.30</td>\n",
       "      <td>3462.67</td>\n",
       "      <td>30841.35</td>\n",
       "      <td>6044.86</td>\n",
       "      <td>2198.89</td>\n",
       "      <td>512.98</td>\n",
       "      <td>14.463307</td>\n",
       "      <td>33.566292</td>\n",
       "      <td>Rose Elisângela Vyrnium de Moura</td>\n",
       "      <td>Fem</td>\n",
       "      <td>1984-06-10</td>\n",
       "      <td>37</td>\n",
       "      <td>crawfordcraig@yahoo.com</td>\n",
       "      <td>(Decimal('-20.2620885'), Decimal('104.349223'))</td>\n",
       "      <td>Chartered public finance accountant</td>\n",
       "      <td>MS</td>\n",
       "    </tr>\n",
       "  </tbody>\n",
       "</table>\n",
       "</div>"
      ],
      "text/plain": [
       "          id    Salario       Perfil  Ativo01  Ativo02  Ativo03   Ativo04  \\\n",
       "0  id0000001     $63.67     Moderado  1174.27  4980.98  2638.24       NaN   \n",
       "1  id0000002     $21.96     Moderado   842.12  5646.09  3336.07       NaN   \n",
       "2  id0000003  $62497.64    Agressivo   818.81  5516.52  3396.64       NaN   \n",
       "3  id0000004  $99878.74    Agressivo      NaN  5258.69  3723.10       NaN   \n",
       "4  id0000005    $188.01  Conservador  1505.16  6415.30  3462.67  30841.35   \n",
       "\n",
       "   Ativo05  Ativo06  Ativo07      Nota1      Nota2  \\\n",
       "0  4480.91  2329.72   480.72  79.600372   9.802620   \n",
       "1  5624.22  2669.98   504.17  44.406893  90.512871   \n",
       "2  5033.83  2229.45   523.12  44.020024  65.060941   \n",
       "3  5933.91      NaN   486.05  25.597924  86.548918   \n",
       "4  6044.86  2198.89   512.98  14.463307  33.566292   \n",
       "\n",
       "                               Nome  Sexo        Nasc  Idade  \\\n",
       "0             Eunice Hellen do Vale   Fem  1970-11-12     51   \n",
       "1   Sebastião Castelo Branco Júnior  Masc  2019-12-10      2   \n",
       "2         Romildo Fábio de Carvalho  Masc  2015-12-28      6   \n",
       "3         Lana Albina de Lemos Mumy   Fem  1993-05-03     28   \n",
       "4  Rose Elisângela Vyrnium de Moura   Fem  1984-06-10     37   \n",
       "\n",
       "                     Email                                         Lat_long  \\\n",
       "0         djones@yahoo.com   (Decimal('24.7024355'), Decimal('-28.038258'))   \n",
       "1   barnesandrea@yahoo.com   (Decimal('21.8589875'), Decimal('122.830566'))   \n",
       "2  walkermichael@yahoo.com   (Decimal('-28.2161525'), Decimal('97.140529'))   \n",
       "3   cobbangela@hotmail.com   (Decimal('-40.8557635'), Decimal('-2.936099'))   \n",
       "4  crawfordcraig@yahoo.com  (Decimal('-20.2620885'), Decimal('104.349223'))   \n",
       "\n",
       "                                     Job Estado  \n",
       "0                       Technical author     TO  \n",
       "1                   Biochemist, clinical     DF  \n",
       "2  Development worker, international aid     DF  \n",
       "3              Estate manager/land agent     DF  \n",
       "4    Chartered public finance accountant     MS  "
      ]
     },
     "execution_count": 320,
     "metadata": {},
     "output_type": "execute_result"
    }
   ],
   "source": [
    "df = df.sort_values(by='id').reset_index().drop(columns=['index'])\n",
    "df.head()"
   ]
  },
  {
   "cell_type": "markdown",
   "metadata": {},
   "source": [
    "## 6 - Faça uma análise dos dados faltantes e trate-os\n",
    "\n",
    "Mostre todas as colunas com dados faltantes, sua quantidade/porcentagem e como tratar (preencher) cada uma delas explicando sua estratégia\n",
    "\n",
    "### Nulos identificados em colunas de ativos e notas\n",
    "##### Solução: Substituição de por valores 0 e média com intuito de não excluir as linhas do df, tendo em vista que algumas chegam em até 50% de valores NaN.\n",
    "\n",
    "- Colunas relacionadas aos ativos:\n",
    "    Substituição dos valores Nan por 0\n",
    "\n",
    "- Colunas relacionadas a nota:\n",
    "    Substituição com a média das notas"
   ]
  },
  {
   "cell_type": "code",
   "execution_count": 321,
   "metadata": {},
   "outputs": [
    {
     "name": "stdout",
     "output_type": "stream",
     "text": [
      "<class 'pandas.core.frame.DataFrame'>\n",
      "RangeIndex: 38754 entries, 0 to 38753\n",
      "Data columns (total 20 columns):\n",
      " #   Column    Non-Null Count  Dtype  \n",
      "---  ------    --------------  -----  \n",
      " 0   id        38754 non-null  object \n",
      " 1   Salario   38754 non-null  object \n",
      " 2   Perfil    38754 non-null  object \n",
      " 3   Ativo01   29030 non-null  float64\n",
      " 4   Ativo02   32654 non-null  float64\n",
      " 5   Ativo03   32585 non-null  float64\n",
      " 6   Ativo04   26867 non-null  float64\n",
      " 7   Ativo05   32563 non-null  float64\n",
      " 8   Ativo06   19240 non-null  float64\n",
      " 9   Ativo07   38754 non-null  float64\n",
      " 10  Nota1     35754 non-null  float64\n",
      " 11  Nota2     36754 non-null  float64\n",
      " 12  Nome      38754 non-null  object \n",
      " 13  Sexo      38754 non-null  object \n",
      " 14  Nasc      38754 non-null  object \n",
      " 15  Idade     38754 non-null  int64  \n",
      " 16  Email     38754 non-null  object \n",
      " 17  Lat_long  38754 non-null  object \n",
      " 18  Job       38754 non-null  object \n",
      " 19  Estado    38754 non-null  object \n",
      "dtypes: float64(9), int64(1), object(10)\n",
      "memory usage: 5.9+ MB\n"
     ]
    }
   ],
   "source": [
    "df.info()"
   ]
  },
  {
   "cell_type": "code",
   "execution_count": 322,
   "metadata": {},
   "outputs": [
    {
     "data": {
      "text/plain": [
       "id              0\n",
       "Salario         0\n",
       "Perfil          0\n",
       "Ativo01      9724\n",
       "Ativo02      6100\n",
       "Ativo03      6169\n",
       "Ativo04     11887\n",
       "Ativo05      6191\n",
       "Ativo06     19514\n",
       "Ativo07         0\n",
       "Nota1        3000\n",
       "Nota2        2000\n",
       "Nome            0\n",
       "Sexo            0\n",
       "Nasc            0\n",
       "Idade           0\n",
       "Email           0\n",
       "Lat_long        0\n",
       "Job             0\n",
       "Estado          0\n",
       "dtype: int64"
      ]
     },
     "execution_count": 322,
     "metadata": {},
     "output_type": "execute_result"
    }
   ],
   "source": [
    "df.isna().sum()"
   ]
  },
  {
   "cell_type": "code",
   "execution_count": 323,
   "metadata": {},
   "outputs": [
    {
     "data": {
      "text/plain": [
       "id           0.000000\n",
       "Salario      0.000000\n",
       "Perfil       0.000000\n",
       "Ativo01     25.091603\n",
       "Ativo02     15.740311\n",
       "Ativo03     15.918357\n",
       "Ativo04     30.672963\n",
       "Ativo05     15.975125\n",
       "Ativo06     50.353512\n",
       "Ativo07      0.000000\n",
       "Nota1        7.741136\n",
       "Nota2        5.160758\n",
       "Nome         0.000000\n",
       "Sexo         0.000000\n",
       "Nasc         0.000000\n",
       "Idade        0.000000\n",
       "Email        0.000000\n",
       "Lat_long     0.000000\n",
       "Job          0.000000\n",
       "Estado       0.000000\n",
       "dtype: float64"
      ]
     },
     "execution_count": 323,
     "metadata": {},
     "output_type": "execute_result"
    }
   ],
   "source": [
    "df.isnull().mean() * 100 #proporção de nulos no df"
   ]
  },
  {
   "cell_type": "code",
   "execution_count": 324,
   "metadata": {},
   "outputs": [],
   "source": [
    "colunas_para_substituir = ['Ativo01','Ativo02','Ativo03','Ativo04','Ativo05','Ativo06']\n",
    "df[colunas_para_substituir] = df[colunas_para_substituir].fillna(0)"
   ]
  },
  {
   "cell_type": "code",
   "execution_count": 325,
   "metadata": {},
   "outputs": [
    {
     "data": {
      "text/plain": [
       "49.82109426961431"
      ]
     },
     "execution_count": 325,
     "metadata": {},
     "output_type": "execute_result"
    }
   ],
   "source": [
    "df['Nota1'].mean()  #conferindo media sem dropar Nan"
   ]
  },
  {
   "cell_type": "code",
   "execution_count": 326,
   "metadata": {},
   "outputs": [
    {
     "data": {
      "text/plain": [
       "49.82856067580171"
      ]
     },
     "execution_count": 326,
     "metadata": {},
     "output_type": "execute_result"
    }
   ],
   "source": [
    "nao_nulos = df.dropna()\n",
    "nao_nulos['Nota1'].mean() #conferindo valor da media dropando os na antes"
   ]
  },
  {
   "cell_type": "code",
   "execution_count": 327,
   "metadata": {},
   "outputs": [],
   "source": [
    "preencher_com_media = ['Nota1', 'Nota2']\n",
    "df[preencher_com_media] = df[preencher_com_media].fillna(df[preencher_com_media].mean())"
   ]
  },
  {
   "cell_type": "code",
   "execution_count": 328,
   "metadata": {},
   "outputs": [
    {
     "data": {
      "text/plain": [
       "49.82109426961432"
      ]
     },
     "execution_count": 328,
     "metadata": {},
     "output_type": "execute_result"
    }
   ],
   "source": [
    "df['Nota1'].mean() #conferindo media após o fillna"
   ]
  },
  {
   "cell_type": "markdown",
   "metadata": {},
   "source": [
    "## 7 - Manipule os dados a seguir:\n",
    "- Criar coluna \"Total\" somando o valor de todos os ativos por investidor\n",
    "- Criar coluna \"Media\" com a média das notas 1 e 2\n",
    "- Criar coluna \"Dominio\" com apenas o domínio do email (dica: separar por @)\n",
    "- Mudar o nome da coluna \"Salário\" para \"Renda\" e tratar a coluna (sem caracter $ e tipo numérica)\n",
    "- Mudar os dados da coluna \"Sexo\" para Masculino e Feminino (tente usar a função map)\n",
    "- Transformar os dados da coluna Media em inteiro\n",
    "- Criar coluna \"NPS\" onde o investidor é classificado como promotor se a média das notas é maior ou igual a 80, como neutro se a média estiver entre 50 e 80, e como detrator se for abaixo de 50\n"
   ]
  },
  {
   "cell_type": "code",
   "execution_count": 329,
   "metadata": {},
   "outputs": [
    {
     "data": {
      "text/plain": [
       "['Ativo01', 'Ativo02', 'Ativo03', 'Ativo04', 'Ativo05', 'Ativo06']"
      ]
     },
     "execution_count": 329,
     "metadata": {},
     "output_type": "execute_result"
    }
   ],
   "source": [
    "colunas_para_somar = colunas_para_substituir \n",
    "colunas_para_somar"
   ]
  },
  {
   "cell_type": "code",
   "execution_count": 330,
   "metadata": {},
   "outputs": [
    {
     "data": {
      "text/plain": [
       "['Nota1', 'Nota2']"
      ]
     },
     "execution_count": 330,
     "metadata": {},
     "output_type": "execute_result"
    }
   ],
   "source": [
    "colunas_media = preencher_com_media\n",
    "colunas_media"
   ]
  },
  {
   "cell_type": "code",
   "execution_count": 331,
   "metadata": {},
   "outputs": [],
   "source": [
    "# 1 - Criação da coluna 'Total'\n",
    "df['Total'] = df[colunas_para_somar].sum(axis=1) "
   ]
  },
  {
   "cell_type": "code",
   "execution_count": 332,
   "metadata": {},
   "outputs": [
    {
     "data": {
      "text/plain": [
       "0        44.701496\n",
       "1        67.459882\n",
       "2        54.540483\n",
       "3        56.073421\n",
       "4        24.014800\n",
       "           ...    \n",
       "38749    36.553564\n",
       "38750    84.660162\n",
       "38751    27.441292\n",
       "38752    77.498459\n",
       "38753    38.515828\n",
       "Length: 38754, dtype: float64"
      ]
     },
     "execution_count": 332,
     "metadata": {},
     "output_type": "execute_result"
    }
   ],
   "source": [
    "#Conferindo valores de media\n",
    "df[colunas_media].mean(axis=1)"
   ]
  },
  {
   "cell_type": "code",
   "execution_count": 333,
   "metadata": {},
   "outputs": [],
   "source": [
    "# 2 - Criação da coluna 'Media'\n",
    "df['Media'] = df[colunas_media].mean(axis=1)"
   ]
  },
  {
   "cell_type": "code",
   "execution_count": 334,
   "metadata": {},
   "outputs": [],
   "source": [
    "# 3 - Criação da coluna 'Dominio' com dominio do endereço de email\n",
    "df['Dominio'] = df['Email'].str.split('@').str[1]"
   ]
  },
  {
   "cell_type": "code",
   "execution_count": 335,
   "metadata": {},
   "outputs": [],
   "source": [
    "# 4 Tratamento da coluna Salário (Renda)\n",
    "df.rename(columns={'Salario':'Renda'}, inplace=True)\n",
    "df['Renda'] = df['Renda'].str.replace('$', '')\n",
    "df['Renda'] = df['Renda'].astype(float)"
   ]
  },
  {
   "cell_type": "code",
   "execution_count": 336,
   "metadata": {},
   "outputs": [
    {
     "data": {
      "text/plain": [
       "Sexo\n",
       "Fem     19385\n",
       "Masc    19369\n",
       "Name: count, dtype: int64"
      ]
     },
     "execution_count": 336,
     "metadata": {},
     "output_type": "execute_result"
    }
   ],
   "source": [
    "df['Sexo'].value_counts()"
   ]
  },
  {
   "cell_type": "code",
   "execution_count": 337,
   "metadata": {},
   "outputs": [],
   "source": [
    "# 5 - Alteração na coluna 'Sexo'\n",
    "def sex(x):\n",
    "    if x == 'Fem':\n",
    "        x = 'Feminino'\n",
    "    elif x == 'Masc':\n",
    "        x='Masculino'\n",
    "    \n",
    "    return x\n",
    "\n",
    "df['Sexo'] = df['Sexo'].map(sex)"
   ]
  },
  {
   "cell_type": "code",
   "execution_count": 338,
   "metadata": {},
   "outputs": [
    {
     "data": {
      "text/plain": [
       "Sexo\n",
       "Feminino     19385\n",
       "Masculino    19369\n",
       "Name: count, dtype: int64"
      ]
     },
     "execution_count": 338,
     "metadata": {},
     "output_type": "execute_result"
    }
   ],
   "source": [
    "df['Sexo'].value_counts()"
   ]
  },
  {
   "cell_type": "code",
   "execution_count": 339,
   "metadata": {},
   "outputs": [],
   "source": [
    "#6 - Transformando coluna 'Media' em inteiro\n",
    "df['Media'] = df['Media'].astype(int)"
   ]
  },
  {
   "cell_type": "code",
   "execution_count": 340,
   "metadata": {},
   "outputs": [],
   "source": [
    "# 7 - Criação da coluna NPS\n",
    "\n",
    "def nps(x):\n",
    "    if x >= 80:\n",
    "        x = 'promotor'\n",
    "    elif x >50 & x < 80:\n",
    "        x = 'neutro'\n",
    "    elif x < 50:\n",
    "        x = 'detrator'\n",
    "    elif x == 50:\n",
    "        x = 'neutro'\n",
    "    \n",
    "    return x\n",
    "\n",
    "df['NPS'] = df['Media'].map(nps)"
   ]
  },
  {
   "cell_type": "code",
   "execution_count": 341,
   "metadata": {},
   "outputs": [
    {
     "data": {
      "text/plain": [
       "NPS\n",
       "neutro      33711\n",
       "promotor     2703\n",
       "detrator     2340\n",
       "Name: count, dtype: int64"
      ]
     },
     "execution_count": 341,
     "metadata": {},
     "output_type": "execute_result"
    }
   ],
   "source": [
    "df['NPS'].value_counts()"
   ]
  },
  {
   "cell_type": "markdown",
   "metadata": {},
   "source": [
    "## 8 - Calcule os seguintes dados\n",
    "- Calcule o total investido em cada coluna Ativo (tente usar o apply)\n",
    "- Qual o menor valor investido em cada ativo?\n",
    "- Mostre a média e desvio padrão de cada ativo\n",
    "- Qual o nome e a idade do investidor mais velho?\n",
    "- Qual a mediana da coluna Média?"
   ]
  },
  {
   "cell_type": "code",
   "execution_count": 342,
   "metadata": {},
   "outputs": [],
   "source": [
    "def total_ativo(entrada):\n",
    "    total = entrada.sum()\n",
    "    return total"
   ]
  },
  {
   "cell_type": "code",
   "execution_count": 343,
   "metadata": {},
   "outputs": [
    {
     "data": {
      "text/plain": [
       "Ativo01    3.275569e+07\n",
       "Ativo02    1.680798e+08\n",
       "Ativo03    1.023306e+08\n",
       "Ativo04    4.071340e+08\n",
       "Ativo05    1.720668e+08\n",
       "dtype: float64"
      ]
     },
     "execution_count": 343,
     "metadata": {},
     "output_type": "execute_result"
    }
   ],
   "source": [
    "# 1  - Total investido por ativo\n",
    "ativos = df[colunas_para_somar].apply(total_ativo)\n",
    "ativos.head()"
   ]
  },
  {
   "cell_type": "code",
   "execution_count": 344,
   "metadata": {},
   "outputs": [],
   "source": [
    "def minimo_ativo(entrada):\n",
    "    valor = entrada[entrada>0]\n",
    "    minimo = valor.min()\n",
    "    return minimo"
   ]
  },
  {
   "cell_type": "code",
   "execution_count": 345,
   "metadata": {},
   "outputs": [
    {
     "data": {
      "text/plain": [
       "Ativo01     800.01\n",
       "Ativo02    4500.05\n",
       "Ativo03    2500.01\n",
       "Ativo04    5000.81\n",
       "Ativo05    4000.14\n",
       "Ativo06    2000.04\n",
       "dtype: float64"
      ]
     },
     "execution_count": 345,
     "metadata": {},
     "output_type": "execute_result"
    }
   ],
   "source": [
    "# 2 - Menor valor investido em cada ativo\n",
    "min_ativo = df[colunas_para_somar].apply(minimo_ativo)\n",
    "min_ativo"
   ]
  },
  {
   "cell_type": "code",
   "execution_count": 346,
   "metadata": {},
   "outputs": [
    {
     "data": {
      "text/html": [
       "<div>\n",
       "<style scoped>\n",
       "    .dataframe tbody tr th:only-of-type {\n",
       "        vertical-align: middle;\n",
       "    }\n",
       "\n",
       "    .dataframe tbody tr th {\n",
       "        vertical-align: top;\n",
       "    }\n",
       "\n",
       "    .dataframe thead th {\n",
       "        text-align: right;\n",
       "    }\n",
       "</style>\n",
       "<table border=\"1\" class=\"dataframe\">\n",
       "  <thead>\n",
       "    <tr style=\"text-align: right;\">\n",
       "      <th></th>\n",
       "      <th>count</th>\n",
       "      <th>mean</th>\n",
       "      <th>std</th>\n",
       "      <th>min</th>\n",
       "      <th>25%</th>\n",
       "      <th>50%</th>\n",
       "      <th>75%</th>\n",
       "      <th>max</th>\n",
       "    </tr>\n",
       "  </thead>\n",
       "  <tbody>\n",
       "    <tr>\n",
       "      <th>Ativo01</th>\n",
       "      <td>38754.0</td>\n",
       "      <td>845.220878</td>\n",
       "      <td>524.568525</td>\n",
       "      <td>0.0</td>\n",
       "      <td>0.0000</td>\n",
       "      <td>999.165</td>\n",
       "      <td>1203.4900</td>\n",
       "      <td>2143.05</td>\n",
       "    </tr>\n",
       "    <tr>\n",
       "      <th>Ativo02</th>\n",
       "      <td>38754.0</td>\n",
       "      <td>4337.095701</td>\n",
       "      <td>1909.955896</td>\n",
       "      <td>0.0</td>\n",
       "      <td>4667.8275</td>\n",
       "      <td>5003.595</td>\n",
       "      <td>5343.5650</td>\n",
       "      <td>6990.26</td>\n",
       "    </tr>\n",
       "    <tr>\n",
       "      <th>Ativo03</th>\n",
       "      <td>38754.0</td>\n",
       "      <td>2640.515840</td>\n",
       "      <td>1204.864694</td>\n",
       "      <td>0.0</td>\n",
       "      <td>2663.3700</td>\n",
       "      <td>2995.925</td>\n",
       "      <td>3333.7275</td>\n",
       "      <td>5212.55</td>\n",
       "    </tr>\n",
       "    <tr>\n",
       "      <th>Ativo04</th>\n",
       "      <td>38754.0</td>\n",
       "      <td>10505.598580</td>\n",
       "      <td>9084.714705</td>\n",
       "      <td>0.0</td>\n",
       "      <td>0.0000</td>\n",
       "      <td>10138.740</td>\n",
       "      <td>16780.9675</td>\n",
       "      <td>48744.74</td>\n",
       "    </tr>\n",
       "    <tr>\n",
       "      <th>Ativo05</th>\n",
       "      <td>38754.0</td>\n",
       "      <td>4439.975773</td>\n",
       "      <td>2068.665605</td>\n",
       "      <td>0.0</td>\n",
       "      <td>4320.4650</td>\n",
       "      <td>4997.265</td>\n",
       "      <td>5672.9725</td>\n",
       "      <td>9052.26</td>\n",
       "    </tr>\n",
       "    <tr>\n",
       "      <th>Ativo06</th>\n",
       "      <td>38754.0</td>\n",
       "      <td>1151.541631</td>\n",
       "      <td>1172.059182</td>\n",
       "      <td>0.0</td>\n",
       "      <td>0.0000</td>\n",
       "      <td>0.000</td>\n",
       "      <td>2268.8100</td>\n",
       "      <td>3639.65</td>\n",
       "    </tr>\n",
       "  </tbody>\n",
       "</table>\n",
       "</div>"
      ],
      "text/plain": [
       "           count          mean          std  min        25%        50%  \\\n",
       "Ativo01  38754.0    845.220878   524.568525  0.0     0.0000    999.165   \n",
       "Ativo02  38754.0   4337.095701  1909.955896  0.0  4667.8275   5003.595   \n",
       "Ativo03  38754.0   2640.515840  1204.864694  0.0  2663.3700   2995.925   \n",
       "Ativo04  38754.0  10505.598580  9084.714705  0.0     0.0000  10138.740   \n",
       "Ativo05  38754.0   4439.975773  2068.665605  0.0  4320.4650   4997.265   \n",
       "Ativo06  38754.0   1151.541631  1172.059182  0.0     0.0000      0.000   \n",
       "\n",
       "                75%       max  \n",
       "Ativo01   1203.4900   2143.05  \n",
       "Ativo02   5343.5650   6990.26  \n",
       "Ativo03   3333.7275   5212.55  \n",
       "Ativo04  16780.9675  48744.74  \n",
       "Ativo05   5672.9725   9052.26  \n",
       "Ativo06   2268.8100   3639.65  "
      ]
     },
     "execution_count": 346,
     "metadata": {},
     "output_type": "execute_result"
    }
   ],
   "source": [
    "df[colunas_para_somar].describe().T"
   ]
  },
  {
   "cell_type": "code",
   "execution_count": 347,
   "metadata": {},
   "outputs": [
    {
     "data": {
      "text/html": [
       "<div>\n",
       "<style scoped>\n",
       "    .dataframe tbody tr th:only-of-type {\n",
       "        vertical-align: middle;\n",
       "    }\n",
       "\n",
       "    .dataframe tbody tr th {\n",
       "        vertical-align: top;\n",
       "    }\n",
       "\n",
       "    .dataframe thead th {\n",
       "        text-align: right;\n",
       "    }\n",
       "</style>\n",
       "<table border=\"1\" class=\"dataframe\">\n",
       "  <thead>\n",
       "    <tr style=\"text-align: right;\">\n",
       "      <th></th>\n",
       "      <th>count</th>\n",
       "      <th>mean</th>\n",
       "      <th>std</th>\n",
       "      <th>min</th>\n",
       "      <th>25%</th>\n",
       "      <th>50%</th>\n",
       "      <th>75%</th>\n",
       "      <th>max</th>\n",
       "    </tr>\n",
       "  </thead>\n",
       "  <tbody>\n",
       "    <tr>\n",
       "      <th>Ativo01</th>\n",
       "      <td>38754.0</td>\n",
       "      <td>845.220878</td>\n",
       "      <td>524.568525</td>\n",
       "      <td>800.01</td>\n",
       "      <td>0.0000</td>\n",
       "      <td>999.165</td>\n",
       "      <td>1203.4900</td>\n",
       "      <td>2143.05</td>\n",
       "    </tr>\n",
       "    <tr>\n",
       "      <th>Ativo02</th>\n",
       "      <td>38754.0</td>\n",
       "      <td>4337.095701</td>\n",
       "      <td>1909.955896</td>\n",
       "      <td>4500.05</td>\n",
       "      <td>4667.8275</td>\n",
       "      <td>5003.595</td>\n",
       "      <td>5343.5650</td>\n",
       "      <td>6990.26</td>\n",
       "    </tr>\n",
       "    <tr>\n",
       "      <th>Ativo03</th>\n",
       "      <td>38754.0</td>\n",
       "      <td>2640.515840</td>\n",
       "      <td>1204.864694</td>\n",
       "      <td>2500.01</td>\n",
       "      <td>2663.3700</td>\n",
       "      <td>2995.925</td>\n",
       "      <td>3333.7275</td>\n",
       "      <td>5212.55</td>\n",
       "    </tr>\n",
       "    <tr>\n",
       "      <th>Ativo04</th>\n",
       "      <td>38754.0</td>\n",
       "      <td>10505.598580</td>\n",
       "      <td>9084.714705</td>\n",
       "      <td>5000.81</td>\n",
       "      <td>0.0000</td>\n",
       "      <td>10138.740</td>\n",
       "      <td>16780.9675</td>\n",
       "      <td>48744.74</td>\n",
       "    </tr>\n",
       "    <tr>\n",
       "      <th>Ativo05</th>\n",
       "      <td>38754.0</td>\n",
       "      <td>4439.975773</td>\n",
       "      <td>2068.665605</td>\n",
       "      <td>4000.14</td>\n",
       "      <td>4320.4650</td>\n",
       "      <td>4997.265</td>\n",
       "      <td>5672.9725</td>\n",
       "      <td>9052.26</td>\n",
       "    </tr>\n",
       "    <tr>\n",
       "      <th>Ativo06</th>\n",
       "      <td>38754.0</td>\n",
       "      <td>1151.541631</td>\n",
       "      <td>1172.059182</td>\n",
       "      <td>2000.04</td>\n",
       "      <td>0.0000</td>\n",
       "      <td>0.000</td>\n",
       "      <td>2268.8100</td>\n",
       "      <td>3639.65</td>\n",
       "    </tr>\n",
       "  </tbody>\n",
       "</table>\n",
       "</div>"
      ],
      "text/plain": [
       "           count          mean          std      min        25%        50%  \\\n",
       "Ativo01  38754.0    845.220878   524.568525   800.01     0.0000    999.165   \n",
       "Ativo02  38754.0   4337.095701  1909.955896  4500.05  4667.8275   5003.595   \n",
       "Ativo03  38754.0   2640.515840  1204.864694  2500.01  2663.3700   2995.925   \n",
       "Ativo04  38754.0  10505.598580  9084.714705  5000.81     0.0000  10138.740   \n",
       "Ativo05  38754.0   4439.975773  2068.665605  4000.14  4320.4650   4997.265   \n",
       "Ativo06  38754.0   1151.541631  1172.059182  2000.04     0.0000      0.000   \n",
       "\n",
       "                75%       max  \n",
       "Ativo01   1203.4900   2143.05  \n",
       "Ativo02   5343.5650   6990.26  \n",
       "Ativo03   3333.7275   5212.55  \n",
       "Ativo04  16780.9675  48744.74  \n",
       "Ativo05   5672.9725   9052.26  \n",
       "Ativo06   2268.8100   3639.65  "
      ]
     },
     "execution_count": 347,
     "metadata": {},
     "output_type": "execute_result"
    }
   ],
   "source": [
    "df_describe = df[colunas_para_somar].describe().T\n",
    "df_describe['min'] = min_ativo\n",
    "df_describe"
   ]
  },
  {
   "cell_type": "code",
   "execution_count": 373,
   "metadata": {},
   "outputs": [
    {
     "data": {
      "text/plain": [
       "Ativo01      845.220878\n",
       "Ativo02     4337.095701\n",
       "Ativo03     2640.515840\n",
       "Ativo04    10505.598580\n",
       "Ativo05     4439.975773\n",
       "Ativo06     1151.541631\n",
       "dtype: float64"
      ]
     },
     "execution_count": 373,
     "metadata": {},
     "output_type": "execute_result"
    }
   ],
   "source": [
    "# 3 - media por ativo\n",
    "df[colunas_para_somar].mean()"
   ]
  },
  {
   "cell_type": "code",
   "execution_count": 371,
   "metadata": {},
   "outputs": [
    {
     "data": {
      "text/plain": [
       "Ativo01     524.568525\n",
       "Ativo02    1909.955896\n",
       "Ativo03    1204.864694\n",
       "Ativo04    9084.714705\n",
       "Ativo05    2068.665605\n",
       "Ativo06    1172.059182\n",
       "dtype: float64"
      ]
     },
     "execution_count": 371,
     "metadata": {},
     "output_type": "execute_result"
    }
   ],
   "source": [
    "# 3 - Desvio padrão por ativo\n",
    "df[colunas_para_somar].std()"
   ]
  },
  {
   "cell_type": "code",
   "execution_count": 376,
   "metadata": {},
   "outputs": [
    {
     "data": {
      "text/plain": [
       "id         Renda   Perfil       Ativo01  Ativo02  Ativo03  Ativo04   Ativo05  Ativo06  Ativo07  Nota1      Nota2      Nome                      Sexo      Nasc        Idade  Email                     Lat_long                                          Job                              Estado  Total     Media  Dominio      NPS   \n",
       "id0004895  563.36  Conservador  934.96   4619.65  0.0      14651.99  6386.9   0.00     487.19   49.821094  75.094096  Vívian Cássia de Salgado  Feminino  1970-01-03  51     piercedustin@hotmail.com  (Decimal('-32.2612505'), Decimal('-122.043503'))  Engineer, manufacturing systems  GO      26593.50  62     hotmail.com  neutro    1\n",
       "id0022282  104.03  Agressivo    0.00     5149.54  0.0      7282.94   6137.0   2054.15  495.13   81.665365  56.588399  Priscila Gomes            Feminino  1970-01-03  51     mindyjimenez@hotmail.com  (Decimal('38.9144955'), Decimal('6.553572'))      Records manager                  SC      20623.63  69     hotmail.com  neutro    1\n",
       "Name: count, dtype: int64"
      ]
     },
     "execution_count": 376,
     "metadata": {},
     "output_type": "execute_result"
    }
   ],
   "source": [
    "df[df['Nasc'] == df['Nasc'].min()].value_counts()"
   ]
  },
  {
   "cell_type": "code",
   "execution_count": 375,
   "metadata": {},
   "outputs": [
    {
     "data": {
      "text/plain": [
       "Nome                      Idade  Nasc      \n",
       "Priscila Gomes            51     1970-01-03    1\n",
       "Vívian Cássia de Salgado  51     1970-01-03    1\n",
       "Name: count, dtype: int64"
      ]
     },
     "execution_count": 375,
     "metadata": {},
     "output_type": "execute_result"
    }
   ],
   "source": [
    "# Nome e idade do investidor mais velho\n",
    "df_filtrado = df[['Nome', 'Idade','Nasc']]\n",
    "df_filtrado[df_filtrado['Nasc'] == df['Nasc'].min()].value_counts()"
   ]
  },
  {
   "cell_type": "code",
   "execution_count": 377,
   "metadata": {},
   "outputs": [
    {
     "data": {
      "text/plain": [
       "49.0"
      ]
     },
     "execution_count": 377,
     "metadata": {},
     "output_type": "execute_result"
    }
   ],
   "source": [
    "# 5 - Mediana da coluna média\n",
    "df['Media'].median()"
   ]
  },
  {
   "cell_type": "markdown",
   "metadata": {},
   "source": [
    "## 9 - Responder as perguntas abaixo\n",
    "\n",
    "- Quantos investidores são agressivos, moderados e conservadores?\n",
    "- Mostre os 10 primeiros ids dos investidores de perfil Agressivo e Moderado.\n",
    "- Quantos investidores são do sexo feminino?\n",
    "- Quantos investidores investiram mais de 16000 no Ativo04?\n",
    "- Quantos investidores investiram mais de 16000 no Ativo04 e menos de 5000 no Ativo05?\n",
    "- Quais investidores do sexo feminino tem mais de 25 anos e seu investimento total foi menor que 10000? \n",
    "\n",
    "\n",
    "- Quantos investidores tem em cada estado (dica: use groupby)\n",
    "- Qual é a soma do total investido por cada estado?\n",
    "- Qual é a média do total investido por promotores, detratores e neutros? E como se dividem nos estados\n",
    "- Crie 3 colunas \"dummies\" do perfil dos investidores\n",
    "\n",
    "\n",
    "- Crie uma tabela com total de investimentos de promotores, detratores e neutros em função do perfil. (dica: use pivot_table)\n",
    "\n"
   ]
  },
  {
   "cell_type": "code",
   "execution_count": 352,
   "metadata": {},
   "outputs": [
    {
     "data": {
      "text/plain": [
       "Perfil\n",
       "Agressivo      12975\n",
       "Moderado       12900\n",
       "Conservador    12879\n",
       "Name: count, dtype: int64"
      ]
     },
     "execution_count": 352,
     "metadata": {},
     "output_type": "execute_result"
    }
   ],
   "source": [
    "# 1 - quantidade de investido por cada classificador\n",
    "df['Perfil'].value_counts()"
   ]
  },
  {
   "cell_type": "code",
   "execution_count": 378,
   "metadata": {},
   "outputs": [
    {
     "data": {
      "text/html": [
       "<div>\n",
       "<style scoped>\n",
       "    .dataframe tbody tr th:only-of-type {\n",
       "        vertical-align: middle;\n",
       "    }\n",
       "\n",
       "    .dataframe tbody tr th {\n",
       "        vertical-align: top;\n",
       "    }\n",
       "\n",
       "    .dataframe thead th {\n",
       "        text-align: right;\n",
       "    }\n",
       "</style>\n",
       "<table border=\"1\" class=\"dataframe\">\n",
       "  <thead>\n",
       "    <tr style=\"text-align: right;\">\n",
       "      <th></th>\n",
       "      <th>id</th>\n",
       "      <th>Renda</th>\n",
       "      <th>Perfil</th>\n",
       "      <th>Ativo01</th>\n",
       "      <th>Ativo02</th>\n",
       "      <th>Ativo03</th>\n",
       "      <th>Ativo04</th>\n",
       "      <th>Ativo05</th>\n",
       "      <th>Ativo06</th>\n",
       "      <th>Ativo07</th>\n",
       "      <th>Nota1</th>\n",
       "      <th>Nota2</th>\n",
       "      <th>Nome</th>\n",
       "      <th>Sexo</th>\n",
       "      <th>Nasc</th>\n",
       "      <th>Idade</th>\n",
       "      <th>Email</th>\n",
       "      <th>Lat_long</th>\n",
       "      <th>Job</th>\n",
       "      <th>Estado</th>\n",
       "      <th>Total</th>\n",
       "      <th>Media</th>\n",
       "      <th>Dominio</th>\n",
       "      <th>NPS</th>\n",
       "    </tr>\n",
       "  </thead>\n",
       "  <tbody>\n",
       "    <tr>\n",
       "      <th>0</th>\n",
       "      <td>id0000001</td>\n",
       "      <td>63.67</td>\n",
       "      <td>Moderado</td>\n",
       "      <td>1174.27</td>\n",
       "      <td>4980.98</td>\n",
       "      <td>2638.24</td>\n",
       "      <td>0.00</td>\n",
       "      <td>4480.91</td>\n",
       "      <td>2329.72</td>\n",
       "      <td>480.72</td>\n",
       "      <td>79.600372</td>\n",
       "      <td>9.802620</td>\n",
       "      <td>Eunice Hellen do Vale</td>\n",
       "      <td>Feminino</td>\n",
       "      <td>1970-11-12</td>\n",
       "      <td>51</td>\n",
       "      <td>djones@yahoo.com</td>\n",
       "      <td>(Decimal('24.7024355'), Decimal('-28.038258'))</td>\n",
       "      <td>Technical author</td>\n",
       "      <td>TO</td>\n",
       "      <td>15604.12</td>\n",
       "      <td>44</td>\n",
       "      <td>yahoo.com</td>\n",
       "      <td>neutro</td>\n",
       "    </tr>\n",
       "    <tr>\n",
       "      <th>1</th>\n",
       "      <td>id0000002</td>\n",
       "      <td>21.96</td>\n",
       "      <td>Moderado</td>\n",
       "      <td>842.12</td>\n",
       "      <td>5646.09</td>\n",
       "      <td>3336.07</td>\n",
       "      <td>0.00</td>\n",
       "      <td>5624.22</td>\n",
       "      <td>2669.98</td>\n",
       "      <td>504.17</td>\n",
       "      <td>44.406893</td>\n",
       "      <td>90.512871</td>\n",
       "      <td>Sebastião Castelo Branco Júnior</td>\n",
       "      <td>Masculino</td>\n",
       "      <td>2019-12-10</td>\n",
       "      <td>2</td>\n",
       "      <td>barnesandrea@yahoo.com</td>\n",
       "      <td>(Decimal('21.8589875'), Decimal('122.830566'))</td>\n",
       "      <td>Biochemist, clinical</td>\n",
       "      <td>DF</td>\n",
       "      <td>18118.48</td>\n",
       "      <td>67</td>\n",
       "      <td>yahoo.com</td>\n",
       "      <td>neutro</td>\n",
       "    </tr>\n",
       "    <tr>\n",
       "      <th>2</th>\n",
       "      <td>id0000003</td>\n",
       "      <td>62497.64</td>\n",
       "      <td>Agressivo</td>\n",
       "      <td>818.81</td>\n",
       "      <td>5516.52</td>\n",
       "      <td>3396.64</td>\n",
       "      <td>0.00</td>\n",
       "      <td>5033.83</td>\n",
       "      <td>2229.45</td>\n",
       "      <td>523.12</td>\n",
       "      <td>44.020024</td>\n",
       "      <td>65.060941</td>\n",
       "      <td>Romildo Fábio de Carvalho</td>\n",
       "      <td>Masculino</td>\n",
       "      <td>2015-12-28</td>\n",
       "      <td>6</td>\n",
       "      <td>walkermichael@yahoo.com</td>\n",
       "      <td>(Decimal('-28.2161525'), Decimal('97.140529'))</td>\n",
       "      <td>Development worker, international aid</td>\n",
       "      <td>DF</td>\n",
       "      <td>16995.25</td>\n",
       "      <td>54</td>\n",
       "      <td>yahoo.com</td>\n",
       "      <td>neutro</td>\n",
       "    </tr>\n",
       "    <tr>\n",
       "      <th>3</th>\n",
       "      <td>id0000004</td>\n",
       "      <td>99878.74</td>\n",
       "      <td>Agressivo</td>\n",
       "      <td>0.00</td>\n",
       "      <td>5258.69</td>\n",
       "      <td>3723.10</td>\n",
       "      <td>0.00</td>\n",
       "      <td>5933.91</td>\n",
       "      <td>0.00</td>\n",
       "      <td>486.05</td>\n",
       "      <td>25.597924</td>\n",
       "      <td>86.548918</td>\n",
       "      <td>Lana Albina de Lemos Mumy</td>\n",
       "      <td>Feminino</td>\n",
       "      <td>1993-05-03</td>\n",
       "      <td>28</td>\n",
       "      <td>cobbangela@hotmail.com</td>\n",
       "      <td>(Decimal('-40.8557635'), Decimal('-2.936099'))</td>\n",
       "      <td>Estate manager/land agent</td>\n",
       "      <td>DF</td>\n",
       "      <td>14915.70</td>\n",
       "      <td>56</td>\n",
       "      <td>hotmail.com</td>\n",
       "      <td>neutro</td>\n",
       "    </tr>\n",
       "    <tr>\n",
       "      <th>5</th>\n",
       "      <td>id0000006</td>\n",
       "      <td>375.93</td>\n",
       "      <td>Agressivo</td>\n",
       "      <td>858.43</td>\n",
       "      <td>5628.75</td>\n",
       "      <td>0.00</td>\n",
       "      <td>13431.14</td>\n",
       "      <td>4409.81</td>\n",
       "      <td>0.00</td>\n",
       "      <td>492.03</td>\n",
       "      <td>79.692402</td>\n",
       "      <td>76.804162</td>\n",
       "      <td>Osório Mário de Parreira Sassoer Otremo</td>\n",
       "      <td>Masculino</td>\n",
       "      <td>1999-07-02</td>\n",
       "      <td>22</td>\n",
       "      <td>ramirezjennifer@yahoo.com</td>\n",
       "      <td>(Decimal('74.407059'), Decimal('-24.460973'))</td>\n",
       "      <td>Press sub</td>\n",
       "      <td>MS</td>\n",
       "      <td>24328.13</td>\n",
       "      <td>78</td>\n",
       "      <td>yahoo.com</td>\n",
       "      <td>neutro</td>\n",
       "    </tr>\n",
       "    <tr>\n",
       "      <th>6</th>\n",
       "      <td>id0000007</td>\n",
       "      <td>9.26</td>\n",
       "      <td>Moderado</td>\n",
       "      <td>807.29</td>\n",
       "      <td>5160.75</td>\n",
       "      <td>3257.88</td>\n",
       "      <td>22760.80</td>\n",
       "      <td>6342.31</td>\n",
       "      <td>2450.48</td>\n",
       "      <td>490.12</td>\n",
       "      <td>11.933962</td>\n",
       "      <td>29.765772</td>\n",
       "      <td>Andressa de Menezes</td>\n",
       "      <td>Feminino</td>\n",
       "      <td>2000-03-09</td>\n",
       "      <td>21</td>\n",
       "      <td>pdouglas@yahoo.com</td>\n",
       "      <td>(Decimal('-15.3220025'), Decimal('-143.141478'))</td>\n",
       "      <td>Learning mentor</td>\n",
       "      <td>RO</td>\n",
       "      <td>40779.51</td>\n",
       "      <td>20</td>\n",
       "      <td>yahoo.com</td>\n",
       "      <td>neutro</td>\n",
       "    </tr>\n",
       "    <tr>\n",
       "      <th>7</th>\n",
       "      <td>id0000008</td>\n",
       "      <td>1.13</td>\n",
       "      <td>Agressivo</td>\n",
       "      <td>0.00</td>\n",
       "      <td>4538.11</td>\n",
       "      <td>3199.12</td>\n",
       "      <td>16247.26</td>\n",
       "      <td>0.00</td>\n",
       "      <td>2282.50</td>\n",
       "      <td>496.43</td>\n",
       "      <td>76.898096</td>\n",
       "      <td>43.554774</td>\n",
       "      <td>Roger da Silva</td>\n",
       "      <td>Masculino</td>\n",
       "      <td>2012-12-04</td>\n",
       "      <td>9</td>\n",
       "      <td>idavis@hotmail.com</td>\n",
       "      <td>(Decimal('26.852207'), Decimal('154.834424'))</td>\n",
       "      <td>Garment/textile technologist</td>\n",
       "      <td>RS</td>\n",
       "      <td>26266.99</td>\n",
       "      <td>60</td>\n",
       "      <td>hotmail.com</td>\n",
       "      <td>neutro</td>\n",
       "    </tr>\n",
       "    <tr>\n",
       "      <th>8</th>\n",
       "      <td>id0000009</td>\n",
       "      <td>557.91</td>\n",
       "      <td>Agressivo</td>\n",
       "      <td>1166.91</td>\n",
       "      <td>4636.14</td>\n",
       "      <td>3430.73</td>\n",
       "      <td>18690.63</td>\n",
       "      <td>5040.74</td>\n",
       "      <td>2777.62</td>\n",
       "      <td>500.43</td>\n",
       "      <td>45.322387</td>\n",
       "      <td>62.157044</td>\n",
       "      <td>Paulo de Toledo</td>\n",
       "      <td>Masculino</td>\n",
       "      <td>1996-12-05</td>\n",
       "      <td>25</td>\n",
       "      <td>raymonderic@gmail.com</td>\n",
       "      <td>(Decimal('6.098341'), Decimal('-156.689139'))</td>\n",
       "      <td>Designer, exhibition/display</td>\n",
       "      <td>DF</td>\n",
       "      <td>35742.77</td>\n",
       "      <td>53</td>\n",
       "      <td>gmail.com</td>\n",
       "      <td>neutro</td>\n",
       "    </tr>\n",
       "    <tr>\n",
       "      <th>9</th>\n",
       "      <td>id0000010</td>\n",
       "      <td>801.24</td>\n",
       "      <td>Agressivo</td>\n",
       "      <td>1054.60</td>\n",
       "      <td>4753.33</td>\n",
       "      <td>3579.91</td>\n",
       "      <td>21298.94</td>\n",
       "      <td>4818.91</td>\n",
       "      <td>2027.57</td>\n",
       "      <td>500.59</td>\n",
       "      <td>53.824813</td>\n",
       "      <td>10.415551</td>\n",
       "      <td>Quirino Max dos Santos</td>\n",
       "      <td>Masculino</td>\n",
       "      <td>1974-02-08</td>\n",
       "      <td>47</td>\n",
       "      <td>patrick65@yahoo.com</td>\n",
       "      <td>(Decimal('37.9226295'), Decimal('30.582043'))</td>\n",
       "      <td>Air broker</td>\n",
       "      <td>RR</td>\n",
       "      <td>37533.26</td>\n",
       "      <td>32</td>\n",
       "      <td>yahoo.com</td>\n",
       "      <td>detrator</td>\n",
       "    </tr>\n",
       "    <tr>\n",
       "      <th>10</th>\n",
       "      <td>id0000011</td>\n",
       "      <td>6409.88</td>\n",
       "      <td>Moderado</td>\n",
       "      <td>0.00</td>\n",
       "      <td>5130.04</td>\n",
       "      <td>2925.34</td>\n",
       "      <td>23220.84</td>\n",
       "      <td>5157.39</td>\n",
       "      <td>2049.32</td>\n",
       "      <td>498.78</td>\n",
       "      <td>68.001128</td>\n",
       "      <td>7.204497</td>\n",
       "      <td>Susan Espada</td>\n",
       "      <td>Feminino</td>\n",
       "      <td>1998-08-10</td>\n",
       "      <td>23</td>\n",
       "      <td>louis80@hotmail.com</td>\n",
       "      <td>(Decimal('36.023380'), Decimal('-7.012638'))</td>\n",
       "      <td>Producer, radio</td>\n",
       "      <td>RR</td>\n",
       "      <td>38482.93</td>\n",
       "      <td>37</td>\n",
       "      <td>hotmail.com</td>\n",
       "      <td>neutro</td>\n",
       "    </tr>\n",
       "  </tbody>\n",
       "</table>\n",
       "</div>"
      ],
      "text/plain": [
       "           id     Renda     Perfil  Ativo01  Ativo02  Ativo03   Ativo04  \\\n",
       "0   id0000001     63.67   Moderado  1174.27  4980.98  2638.24      0.00   \n",
       "1   id0000002     21.96   Moderado   842.12  5646.09  3336.07      0.00   \n",
       "2   id0000003  62497.64  Agressivo   818.81  5516.52  3396.64      0.00   \n",
       "3   id0000004  99878.74  Agressivo     0.00  5258.69  3723.10      0.00   \n",
       "5   id0000006    375.93  Agressivo   858.43  5628.75     0.00  13431.14   \n",
       "6   id0000007      9.26   Moderado   807.29  5160.75  3257.88  22760.80   \n",
       "7   id0000008      1.13  Agressivo     0.00  4538.11  3199.12  16247.26   \n",
       "8   id0000009    557.91  Agressivo  1166.91  4636.14  3430.73  18690.63   \n",
       "9   id0000010    801.24  Agressivo  1054.60  4753.33  3579.91  21298.94   \n",
       "10  id0000011   6409.88   Moderado     0.00  5130.04  2925.34  23220.84   \n",
       "\n",
       "    Ativo05  Ativo06  Ativo07      Nota1      Nota2  \\\n",
       "0   4480.91  2329.72   480.72  79.600372   9.802620   \n",
       "1   5624.22  2669.98   504.17  44.406893  90.512871   \n",
       "2   5033.83  2229.45   523.12  44.020024  65.060941   \n",
       "3   5933.91     0.00   486.05  25.597924  86.548918   \n",
       "5   4409.81     0.00   492.03  79.692402  76.804162   \n",
       "6   6342.31  2450.48   490.12  11.933962  29.765772   \n",
       "7      0.00  2282.50   496.43  76.898096  43.554774   \n",
       "8   5040.74  2777.62   500.43  45.322387  62.157044   \n",
       "9   4818.91  2027.57   500.59  53.824813  10.415551   \n",
       "10  5157.39  2049.32   498.78  68.001128   7.204497   \n",
       "\n",
       "                                       Nome       Sexo        Nasc  Idade  \\\n",
       "0                     Eunice Hellen do Vale   Feminino  1970-11-12     51   \n",
       "1           Sebastião Castelo Branco Júnior  Masculino  2019-12-10      2   \n",
       "2                 Romildo Fábio de Carvalho  Masculino  2015-12-28      6   \n",
       "3                 Lana Albina de Lemos Mumy   Feminino  1993-05-03     28   \n",
       "5   Osório Mário de Parreira Sassoer Otremo  Masculino  1999-07-02     22   \n",
       "6                       Andressa de Menezes   Feminino  2000-03-09     21   \n",
       "7                            Roger da Silva  Masculino  2012-12-04      9   \n",
       "8                           Paulo de Toledo  Masculino  1996-12-05     25   \n",
       "9                    Quirino Max dos Santos  Masculino  1974-02-08     47   \n",
       "10                             Susan Espada   Feminino  1998-08-10     23   \n",
       "\n",
       "                        Email  \\\n",
       "0            djones@yahoo.com   \n",
       "1      barnesandrea@yahoo.com   \n",
       "2     walkermichael@yahoo.com   \n",
       "3      cobbangela@hotmail.com   \n",
       "5   ramirezjennifer@yahoo.com   \n",
       "6          pdouglas@yahoo.com   \n",
       "7          idavis@hotmail.com   \n",
       "8       raymonderic@gmail.com   \n",
       "9         patrick65@yahoo.com   \n",
       "10        louis80@hotmail.com   \n",
       "\n",
       "                                            Lat_long  \\\n",
       "0     (Decimal('24.7024355'), Decimal('-28.038258'))   \n",
       "1     (Decimal('21.8589875'), Decimal('122.830566'))   \n",
       "2     (Decimal('-28.2161525'), Decimal('97.140529'))   \n",
       "3     (Decimal('-40.8557635'), Decimal('-2.936099'))   \n",
       "5      (Decimal('74.407059'), Decimal('-24.460973'))   \n",
       "6   (Decimal('-15.3220025'), Decimal('-143.141478'))   \n",
       "7      (Decimal('26.852207'), Decimal('154.834424'))   \n",
       "8      (Decimal('6.098341'), Decimal('-156.689139'))   \n",
       "9      (Decimal('37.9226295'), Decimal('30.582043'))   \n",
       "10      (Decimal('36.023380'), Decimal('-7.012638'))   \n",
       "\n",
       "                                      Job Estado     Total  Media  \\\n",
       "0                        Technical author     TO  15604.12     44   \n",
       "1                    Biochemist, clinical     DF  18118.48     67   \n",
       "2   Development worker, international aid     DF  16995.25     54   \n",
       "3               Estate manager/land agent     DF  14915.70     56   \n",
       "5                               Press sub     MS  24328.13     78   \n",
       "6                         Learning mentor     RO  40779.51     20   \n",
       "7            Garment/textile technologist     RS  26266.99     60   \n",
       "8            Designer, exhibition/display     DF  35742.77     53   \n",
       "9                              Air broker     RR  37533.26     32   \n",
       "10                        Producer, radio     RR  38482.93     37   \n",
       "\n",
       "        Dominio       NPS  \n",
       "0     yahoo.com    neutro  \n",
       "1     yahoo.com    neutro  \n",
       "2     yahoo.com    neutro  \n",
       "3   hotmail.com    neutro  \n",
       "5     yahoo.com    neutro  \n",
       "6     yahoo.com    neutro  \n",
       "7   hotmail.com    neutro  \n",
       "8     gmail.com    neutro  \n",
       "9     yahoo.com  detrator  \n",
       "10  hotmail.com    neutro  "
      ]
     },
     "execution_count": 378,
     "metadata": {},
     "output_type": "execute_result"
    }
   ],
   "source": [
    "# 2 - Top 10 Agressivos e moderados\n",
    "top10 = df[(df['Perfil'] == 'Agressivo') | (df['Perfil'] == 'Moderado')].head(10)\n",
    "top10\n"
   ]
  },
  {
   "cell_type": "code",
   "execution_count": 354,
   "metadata": {},
   "outputs": [
    {
     "data": {
      "text/plain": [
       "Sexo\n",
       "Feminino     19385\n",
       "Masculino    19369\n",
       "Name: count, dtype: int64"
      ]
     },
     "execution_count": 354,
     "metadata": {},
     "output_type": "execute_result"
    }
   ],
   "source": [
    "# 4 - Quantidade de investidores por sexo no df geral\n",
    "df['Sexo'].value_counts()"
   ]
  },
  {
   "cell_type": "code",
   "execution_count": 379,
   "metadata": {},
   "outputs": [
    {
     "data": {
      "text/plain": [
       "Sexo\n",
       "Masculino    6\n",
       "Feminino     4\n",
       "Name: count, dtype: int64"
      ]
     },
     "execution_count": 379,
     "metadata": {},
     "output_type": "execute_result"
    }
   ],
   "source": [
    "# 4 - Quantidade de investidores por sexo  no top10\n",
    "top10['Sexo'].value_counts()"
   ]
  },
  {
   "cell_type": "code",
   "execution_count": 355,
   "metadata": {},
   "outputs": [
    {
     "data": {
      "text/plain": [
       "10689"
      ]
     },
     "execution_count": 355,
     "metadata": {},
     "output_type": "execute_result"
    }
   ],
   "source": [
    "# 5 - Quantidade de investimentos acima de 16000 no Ativo 4\n",
    "df[(df['Ativo04'] > 16000)].id.count()"
   ]
  },
  {
   "cell_type": "code",
   "execution_count": 356,
   "metadata": {},
   "outputs": [
    {
     "data": {
      "text/plain": [
       "5374"
      ]
     },
     "execution_count": 356,
     "metadata": {},
     "output_type": "execute_result"
    }
   ],
   "source": [
    "# 6 - Quantidade que investiram mais de 16000 no ativo 4 e menos de 5000 no ativo 5\n",
    "df[(df['Ativo04'] > 16000) & (df['Ativo05'] <5000)].id.count()"
   ]
  },
  {
   "cell_type": "code",
   "execution_count": 382,
   "metadata": {},
   "outputs": [
    {
     "data": {
      "text/plain": [
       "531"
      ]
     },
     "execution_count": 382,
     "metadata": {},
     "output_type": "execute_result"
    }
   ],
   "source": [
    "# 7 - Investidores com mais de 25 anos e menos de 10000 investidos\n",
    "df[(df['Sexo'] == 'Feminino') & (df['Idade'] > 25) & (df['Total'] < 10000)].id.count()"
   ]
  },
  {
   "cell_type": "code",
   "execution_count": 388,
   "metadata": {},
   "outputs": [
    {
     "data": {
      "text/html": [
       "<div>\n",
       "<style scoped>\n",
       "    .dataframe tbody tr th:only-of-type {\n",
       "        vertical-align: middle;\n",
       "    }\n",
       "\n",
       "    .dataframe tbody tr th {\n",
       "        vertical-align: top;\n",
       "    }\n",
       "\n",
       "    .dataframe thead th {\n",
       "        text-align: right;\n",
       "    }\n",
       "</style>\n",
       "<table border=\"1\" class=\"dataframe\">\n",
       "  <thead>\n",
       "    <tr style=\"text-align: right;\">\n",
       "      <th></th>\n",
       "      <th>Estado</th>\n",
       "      <th>id</th>\n",
       "    </tr>\n",
       "  </thead>\n",
       "  <tbody>\n",
       "    <tr>\n",
       "      <th>0</th>\n",
       "      <td>AC</td>\n",
       "      <td>1435</td>\n",
       "    </tr>\n",
       "    <tr>\n",
       "      <th>1</th>\n",
       "      <td>AL</td>\n",
       "      <td>1376</td>\n",
       "    </tr>\n",
       "    <tr>\n",
       "      <th>2</th>\n",
       "      <td>AM</td>\n",
       "      <td>1495</td>\n",
       "    </tr>\n",
       "    <tr>\n",
       "      <th>3</th>\n",
       "      <td>AP</td>\n",
       "      <td>1438</td>\n",
       "    </tr>\n",
       "    <tr>\n",
       "      <th>4</th>\n",
       "      <td>BA</td>\n",
       "      <td>1484</td>\n",
       "    </tr>\n",
       "  </tbody>\n",
       "</table>\n",
       "</div>"
      ],
      "text/plain": [
       "  Estado    id\n",
       "0     AC  1435\n",
       "1     AL  1376\n",
       "2     AM  1495\n",
       "3     AP  1438\n",
       "4     BA  1484"
      ]
     },
     "execution_count": 388,
     "metadata": {},
     "output_type": "execute_result"
    }
   ],
   "source": [
    "investidores_estados = df.groupby('Estado').id.count().reset_index()\n",
    "investidores_estados.head()"
   ]
  },
  {
   "cell_type": "code",
   "execution_count": 429,
   "metadata": {},
   "outputs": [
    {
     "data": {
      "image/png": "[encoded data removed]",
      "text/plain": [
       "<Figure size 800x800 with 1 Axes>"
      ]
     },
     "metadata": {},
     "output_type": "display_data"
    }
   ],
   "source": [
    "plt.figure(figsize=(8, 8))\n",
    "grafico = plt.barh(y=investidores_estados['Estado'], width=investidores_estados['id'].sort_values(), height=0.9)\n",
    "\n",
    "plt.title('8 - Contagem de Investidores por Estado')\n",
    "plt.xlabel('Contagem de Investidores')\n",
    "plt.ylabel('Estado')\n",
    "\n",
    "for bar in grafico:\n",
    "    plt.text(bar.get_width() - 100, bar.get_y() + bar.get_height()/2, f'{bar.get_width():,.0f}', \n",
    "             va='center', ha='left', fontsize=9, color='w')\n",
    "    \n",
    "plt.gca().axes.get_xaxis().set_visible(False)\n",
    "\n",
    "\n",
    "plt.show()"
   ]
  },
  {
   "cell_type": "code",
   "execution_count": 430,
   "metadata": {},
   "outputs": [
    {
     "data": {
      "text/html": [
       "<div>\n",
       "<style scoped>\n",
       "    .dataframe tbody tr th:only-of-type {\n",
       "        vertical-align: middle;\n",
       "    }\n",
       "\n",
       "    .dataframe tbody tr th {\n",
       "        vertical-align: top;\n",
       "    }\n",
       "\n",
       "    .dataframe thead th {\n",
       "        text-align: right;\n",
       "    }\n",
       "</style>\n",
       "<table border=\"1\" class=\"dataframe\">\n",
       "  <thead>\n",
       "    <tr style=\"text-align: right;\">\n",
       "      <th></th>\n",
       "      <th>Estado</th>\n",
       "      <th>Total</th>\n",
       "    </tr>\n",
       "  </thead>\n",
       "  <tbody>\n",
       "    <tr>\n",
       "      <th>0</th>\n",
       "      <td>AC</td>\n",
       "      <td>34644797.75</td>\n",
       "    </tr>\n",
       "    <tr>\n",
       "      <th>1</th>\n",
       "      <td>AL</td>\n",
       "      <td>33075277.85</td>\n",
       "    </tr>\n",
       "    <tr>\n",
       "      <th>2</th>\n",
       "      <td>AM</td>\n",
       "      <td>36288389.74</td>\n",
       "    </tr>\n",
       "    <tr>\n",
       "      <th>3</th>\n",
       "      <td>AP</td>\n",
       "      <td>34277022.67</td>\n",
       "    </tr>\n",
       "    <tr>\n",
       "      <th>4</th>\n",
       "      <td>BA</td>\n",
       "      <td>35446639.17</td>\n",
       "    </tr>\n",
       "  </tbody>\n",
       "</table>\n",
       "</div>"
      ],
      "text/plain": [
       "  Estado        Total\n",
       "0     AC  34644797.75\n",
       "1     AL  33075277.85\n",
       "2     AM  36288389.74\n",
       "3     AP  34277022.67\n",
       "4     BA  35446639.17"
      ]
     },
     "execution_count": 430,
     "metadata": {},
     "output_type": "execute_result"
    }
   ],
   "source": [
    "investido_estado = df.groupby('Estado').Total.sum().reset_index()\n",
    "investido_estado.head()"
   ]
  },
  {
   "cell_type": "code",
   "execution_count": 454,
   "metadata": {},
   "outputs": [
    {
     "data": {
      "image/png": "[encoded data removed]",
      "text/plain": [
       "<Figure size 800x600 with 1 Axes>"
      ]
     },
     "metadata": {},
     "output_type": "display_data"
    }
   ],
   "source": [
    "plt.figure(figsize=(8, 6))\n",
    "grafico = plt.barh(y=investido_estado['Estado'], width=investido_estado['Total'].sort_values(), height=0.9)\n",
    "\n",
    "plt.title('9 - Total investido por Estado')\n",
    "plt.xlabel('Investido')\n",
    "plt.ylabel('Estado')\n",
    "\n",
    "#for bar in grafico:\n",
    " #   plt.text(bar.get_width()-7000000, bar.get_y() + bar.get_height()/2, f'R$ {bar.get_width():,.0f}', \n",
    "  #           va='center', ha='left', fontsize=10, color='black')\n",
    "    \n",
    "#plt.gca().axes.get_xaxis().set_visible(False)\n",
    "\n",
    "plt.show()"
   ]
  },
  {
   "cell_type": "code",
   "execution_count": 360,
   "metadata": {},
   "outputs": [
    {
     "data": {
      "text/plain": [
       "NPS\n",
       "detrator    23891.804179\n",
       "neutro      23919.890482\n",
       "promotor    23945.035335\n",
       "Name: Total, dtype: float64"
      ]
     },
     "execution_count": 360,
     "metadata": {},
     "output_type": "execute_result"
    }
   ],
   "source": [
    "df.groupby('NPS').Total.mean()"
   ]
  },
  {
   "cell_type": "code",
   "execution_count": 487,
   "metadata": {},
   "outputs": [
    {
     "data": {
      "text/html": [
       "<div>\n",
       "<style scoped>\n",
       "    .dataframe tbody tr th:only-of-type {\n",
       "        vertical-align: middle;\n",
       "    }\n",
       "\n",
       "    .dataframe tbody tr th {\n",
       "        vertical-align: top;\n",
       "    }\n",
       "\n",
       "    .dataframe thead th {\n",
       "        text-align: right;\n",
       "    }\n",
       "</style>\n",
       "<table border=\"1\" class=\"dataframe\">\n",
       "  <thead>\n",
       "    <tr style=\"text-align: right;\">\n",
       "      <th></th>\n",
       "      <th>Estado</th>\n",
       "      <th>NPS</th>\n",
       "      <th>Total</th>\n",
       "    </tr>\n",
       "  </thead>\n",
       "  <tbody>\n",
       "    <tr>\n",
       "      <th>0</th>\n",
       "      <td>AC</td>\n",
       "      <td>detrator</td>\n",
       "      <td>23349.359294</td>\n",
       "    </tr>\n",
       "    <tr>\n",
       "      <th>1</th>\n",
       "      <td>AC</td>\n",
       "      <td>neutro</td>\n",
       "      <td>24086.156137</td>\n",
       "    </tr>\n",
       "    <tr>\n",
       "      <th>2</th>\n",
       "      <td>AC</td>\n",
       "      <td>promotor</td>\n",
       "      <td>25649.106413</td>\n",
       "    </tr>\n",
       "    <tr>\n",
       "      <th>3</th>\n",
       "      <td>AL</td>\n",
       "      <td>detrator</td>\n",
       "      <td>25842.085181</td>\n",
       "    </tr>\n",
       "    <tr>\n",
       "      <th>4</th>\n",
       "      <td>AL</td>\n",
       "      <td>neutro</td>\n",
       "      <td>23907.635405</td>\n",
       "    </tr>\n",
       "    <tr>\n",
       "      <th>...</th>\n",
       "      <td>...</td>\n",
       "      <td>...</td>\n",
       "      <td>...</td>\n",
       "    </tr>\n",
       "    <tr>\n",
       "      <th>76</th>\n",
       "      <td>SP</td>\n",
       "      <td>neutro</td>\n",
       "      <td>23853.408755</td>\n",
       "    </tr>\n",
       "    <tr>\n",
       "      <th>77</th>\n",
       "      <td>SP</td>\n",
       "      <td>promotor</td>\n",
       "      <td>23843.822970</td>\n",
       "    </tr>\n",
       "    <tr>\n",
       "      <th>78</th>\n",
       "      <td>TO</td>\n",
       "      <td>detrator</td>\n",
       "      <td>24837.722771</td>\n",
       "    </tr>\n",
       "    <tr>\n",
       "      <th>79</th>\n",
       "      <td>TO</td>\n",
       "      <td>neutro</td>\n",
       "      <td>23726.091716</td>\n",
       "    </tr>\n",
       "    <tr>\n",
       "      <th>80</th>\n",
       "      <td>TO</td>\n",
       "      <td>promotor</td>\n",
       "      <td>22739.120636</td>\n",
       "    </tr>\n",
       "  </tbody>\n",
       "</table>\n",
       "<p>81 rows × 3 columns</p>\n",
       "</div>"
      ],
      "text/plain": [
       "   Estado       NPS         Total\n",
       "0      AC  detrator  23349.359294\n",
       "1      AC    neutro  24086.156137\n",
       "2      AC  promotor  25649.106413\n",
       "3      AL  detrator  25842.085181\n",
       "4      AL    neutro  23907.635405\n",
       "..    ...       ...           ...\n",
       "76     SP    neutro  23853.408755\n",
       "77     SP  promotor  23843.822970\n",
       "78     TO  detrator  24837.722771\n",
       "79     TO    neutro  23726.091716\n",
       "80     TO  promotor  22739.120636\n",
       "\n",
       "[81 rows x 3 columns]"
      ]
     },
     "execution_count": 487,
     "metadata": {},
     "output_type": "execute_result"
    }
   ],
   "source": [
    "# 10 NPS por Estado\n",
    "nps = df.groupby(['Estado','NPS']).Total.mean().reset_index()\n",
    "nps"
   ]
  },
  {
   "cell_type": "code",
   "execution_count": 362,
   "metadata": {},
   "outputs": [
    {
     "data": {
      "text/html": [
       "<div>\n",
       "<style scoped>\n",
       "    .dataframe tbody tr th:only-of-type {\n",
       "        vertical-align: middle;\n",
       "    }\n",
       "\n",
       "    .dataframe tbody tr th {\n",
       "        vertical-align: top;\n",
       "    }\n",
       "\n",
       "    .dataframe thead th {\n",
       "        text-align: right;\n",
       "    }\n",
       "</style>\n",
       "<table border=\"1\" class=\"dataframe\">\n",
       "  <thead>\n",
       "    <tr style=\"text-align: right;\">\n",
       "      <th></th>\n",
       "      <th>Perfil_Agressivo</th>\n",
       "      <th>Perfil_Conservador</th>\n",
       "      <th>Perfil_Moderado</th>\n",
       "    </tr>\n",
       "  </thead>\n",
       "  <tbody>\n",
       "    <tr>\n",
       "      <th>0</th>\n",
       "      <td>0</td>\n",
       "      <td>0</td>\n",
       "      <td>1</td>\n",
       "    </tr>\n",
       "    <tr>\n",
       "      <th>1</th>\n",
       "      <td>0</td>\n",
       "      <td>0</td>\n",
       "      <td>1</td>\n",
       "    </tr>\n",
       "    <tr>\n",
       "      <th>2</th>\n",
       "      <td>1</td>\n",
       "      <td>0</td>\n",
       "      <td>0</td>\n",
       "    </tr>\n",
       "    <tr>\n",
       "      <th>3</th>\n",
       "      <td>1</td>\n",
       "      <td>0</td>\n",
       "      <td>0</td>\n",
       "    </tr>\n",
       "    <tr>\n",
       "      <th>4</th>\n",
       "      <td>0</td>\n",
       "      <td>1</td>\n",
       "      <td>0</td>\n",
       "    </tr>\n",
       "  </tbody>\n",
       "</table>\n",
       "</div>"
      ],
      "text/plain": [
       "   Perfil_Agressivo  Perfil_Conservador  Perfil_Moderado\n",
       "0                 0                   0                1\n",
       "1                 0                   0                1\n",
       "2                 1                   0                0\n",
       "3                 1                   0                0\n",
       "4                 0                   1                0"
      ]
     },
     "execution_count": 362,
     "metadata": {},
     "output_type": "execute_result"
    }
   ],
   "source": [
    "perfis = pd.get_dummies(df['Perfil'], prefix='Perfil')\n",
    "perfis = perfis.astype(int)\n",
    "perfis.head()"
   ]
  },
  {
   "cell_type": "code",
   "execution_count": 363,
   "metadata": {},
   "outputs": [
    {
     "data": {
      "text/plain": [
       "Perfil\n",
       "Agressivo      3.116964e+08\n",
       "Conservador    3.077919e+08\n",
       "Moderado       3.075054e+08\n",
       "Name: Total, dtype: float64"
      ]
     },
     "execution_count": 363,
     "metadata": {},
     "output_type": "execute_result"
    }
   ],
   "source": [
    "df.groupby('Perfil').Total.sum()"
   ]
  },
  {
   "cell_type": "code",
   "execution_count": 364,
   "metadata": {},
   "outputs": [],
   "source": [
    "pivot = pd.pivot_table(df, values= 'Total', index = None , columns='Perfil', aggfunc='sum')"
   ]
  },
  {
   "cell_type": "code",
   "execution_count": 493,
   "metadata": {},
   "outputs": [
    {
     "data": {
      "text/html": [
       "<div>\n",
       "<style scoped>\n",
       "    .dataframe tbody tr th:only-of-type {\n",
       "        vertical-align: middle;\n",
       "    }\n",
       "\n",
       "    .dataframe tbody tr th {\n",
       "        vertical-align: top;\n",
       "    }\n",
       "\n",
       "    .dataframe thead th {\n",
       "        text-align: right;\n",
       "    }\n",
       "</style>\n",
       "<table border=\"1\" class=\"dataframe\">\n",
       "  <thead>\n",
       "    <tr style=\"text-align: right;\">\n",
       "      <th>Perfil</th>\n",
       "      <th>Agressivo</th>\n",
       "      <th>Conservador</th>\n",
       "      <th>Moderado</th>\n",
       "    </tr>\n",
       "  </thead>\n",
       "  <tbody>\n",
       "    <tr>\n",
       "      <th>Total</th>\n",
       "      <td>3.116964e+08</td>\n",
       "      <td>307791885.7</td>\n",
       "      <td>3.075054e+08</td>\n",
       "    </tr>\n",
       "  </tbody>\n",
       "</table>\n",
       "</div>"
      ],
      "text/plain": [
       "Perfil     Agressivo  Conservador      Moderado\n",
       "Total   3.116964e+08  307791885.7  3.075054e+08"
      ]
     },
     "execution_count": 493,
     "metadata": {},
     "output_type": "execute_result"
    }
   ],
   "source": [
    "pivot #total investido por nps"
   ]
  },
  {
   "cell_type": "code",
   "execution_count": 497,
   "metadata": {},
   "outputs": [
    {
     "data": {
      "text/html": [
       "<div>\n",
       "<style scoped>\n",
       "    .dataframe tbody tr th:only-of-type {\n",
       "        vertical-align: middle;\n",
       "    }\n",
       "\n",
       "    .dataframe tbody tr th {\n",
       "        vertical-align: top;\n",
       "    }\n",
       "\n",
       "    .dataframe thead th {\n",
       "        text-align: right;\n",
       "    }\n",
       "</style>\n",
       "<table border=\"1\" class=\"dataframe\">\n",
       "  <thead>\n",
       "    <tr style=\"text-align: right;\">\n",
       "      <th></th>\n",
       "      <th>Perfil</th>\n",
       "      <th>Total</th>\n",
       "    </tr>\n",
       "  </thead>\n",
       "  <tbody>\n",
       "    <tr>\n",
       "      <th>0</th>\n",
       "      <td>Agressivo</td>\n",
       "      <td>3.116964e+08</td>\n",
       "    </tr>\n",
       "    <tr>\n",
       "      <th>1</th>\n",
       "      <td>Conservador</td>\n",
       "      <td>3.077919e+08</td>\n",
       "    </tr>\n",
       "    <tr>\n",
       "      <th>2</th>\n",
       "      <td>Moderado</td>\n",
       "      <td>3.075054e+08</td>\n",
       "    </tr>\n",
       "  </tbody>\n",
       "</table>\n",
       "</div>"
      ],
      "text/plain": [
       "        Perfil         Total\n",
       "0    Agressivo  3.116964e+08\n",
       "1  Conservador  3.077919e+08\n",
       "2     Moderado  3.075054e+08"
      ]
     },
     "execution_count": 497,
     "metadata": {},
     "output_type": "execute_result"
    }
   ],
   "source": [
    "pivot_t = pivot.T.reset_index()\n",
    "pivot_t"
   ]
  },
  {
   "cell_type": "code",
   "execution_count": 507,
   "metadata": {},
   "outputs": [
    {
     "name": "stdout",
     "output_type": "stream",
     "text": [
      "<class 'pandas.core.frame.DataFrame'>\n",
      "RangeIndex: 3 entries, 0 to 2\n",
      "Data columns (total 2 columns):\n",
      " #   Column  Non-Null Count  Dtype  \n",
      "---  ------  --------------  -----  \n",
      " 0   Perfil  3 non-null      object \n",
      " 1   Total   3 non-null      float64\n",
      "dtypes: float64(1), object(1)\n",
      "memory usage: 180.0+ bytes\n"
     ]
    }
   ],
   "source": [
    "pivot_t.info()"
   ]
  },
  {
   "cell_type": "code",
   "execution_count": 512,
   "metadata": {},
   "outputs": [
    {
     "data": {
      "image/png": "[encoded data removed]",
      "text/plain": [
       "<Figure size 640x480 with 1 Axes>"
      ]
     },
     "metadata": {},
     "output_type": "display_data"
    }
   ],
   "source": [
    "graf = sns.barplot(data=pivot_t, x='Perfil', y='Total')\n",
    "plt.title('Total investido por perfil')\n",
    "plt.show()"
   ]
  },
  {
   "cell_type": "code",
   "execution_count": 366,
   "metadata": {},
   "outputs": [
    {
     "data": {
      "text/html": [
       "<div>\n",
       "<style scoped>\n",
       "    .dataframe tbody tr th:only-of-type {\n",
       "        vertical-align: middle;\n",
       "    }\n",
       "\n",
       "    .dataframe tbody tr th {\n",
       "        vertical-align: top;\n",
       "    }\n",
       "\n",
       "    .dataframe thead th {\n",
       "        text-align: right;\n",
       "    }\n",
       "</style>\n",
       "<table border=\"1\" class=\"dataframe\">\n",
       "  <thead>\n",
       "    <tr style=\"text-align: right;\">\n",
       "      <th></th>\n",
       "      <th>Total</th>\n",
       "    </tr>\n",
       "    <tr>\n",
       "      <th>Perfil</th>\n",
       "      <th></th>\n",
       "    </tr>\n",
       "  </thead>\n",
       "  <tbody>\n",
       "    <tr>\n",
       "      <th>Agressivo</th>\n",
       "      <td>3.116964e+08</td>\n",
       "    </tr>\n",
       "    <tr>\n",
       "      <th>Conservador</th>\n",
       "      <td>3.077919e+08</td>\n",
       "    </tr>\n",
       "    <tr>\n",
       "      <th>Moderado</th>\n",
       "      <td>3.075054e+08</td>\n",
       "    </tr>\n",
       "  </tbody>\n",
       "</table>\n",
       "</div>"
      ],
      "text/plain": [
       "                    Total\n",
       "Perfil                   \n",
       "Agressivo    3.116964e+08\n",
       "Conservador  3.077919e+08\n",
       "Moderado     3.075054e+08"
      ]
     },
     "execution_count": 366,
     "metadata": {},
     "output_type": "execute_result"
    }
   ],
   "source": [
    "pivot.T"
   ]
  }
 ],
 "metadata": {
  "kernelspec": {
   "display_name": "Python 3",
   "language": "python",
   "name": "python3"
  },
  "language_info": {
   "codemirror_mode": {
    "name": "ipython",
    "version": 3
   },
   "file_extension": ".py",
   "mimetype": "text/x-python",
   "name": "python",
   "nbconvert_exporter": "python",
   "pygments_lexer": "ipython3",
   "version": "3.11.4"
  }
 },
 "nbformat": 4,
 "nbformat_minor": 2
}
