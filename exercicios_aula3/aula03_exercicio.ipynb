{
 "cells": [
  {
   "cell_type": "markdown",
   "metadata": {},
   "source": [
    "### Aluno: Sávio Murillo Dias Bastos\n",
    "### Disciplina: Técnicas de programação | Ada Tech"
   ]
  },
  {
   "cell_type": "markdown",
   "metadata": {},
   "source": [
    "### Exercicios\n",
    "\n",
    "1. Replace all occurrences of 3 with 10, arr = np.array([1, 2, 3,3,3,3,3, 4, 5])\n",
    "2. Find common elements between the two arrays, arr1 = np.array([1, 2, 3, 4, 5]), arr2 = np.array([3, 4, 5, 6, 7])\n",
    "3. Reshape the array into a 2x4 matrix, arr = np.array([1, 2, 3, 4, 5, 6, 7, 8])\n",
    "4. Remove duplicate elements, arr = np.array([1, 2, 2, 3, 4, 4, 5, 6, 6])\n",
    "5. Split the array into three sub-arrays, arr = np.array([1, 2, 3, 4, 5, 6, 7, 8, 9, 10])\n",
    "6. Perform element-wise multiplication, arr1 = np.array([1, 2, 3, 4]), arr2 = np.array([5, 6, 7, 8])"
   ]
  },
  {
   "cell_type": "code",
   "execution_count": 1,
   "metadata": {},
   "outputs": [],
   "source": [
    "import numpy as np"
   ]
  },
  {
   "cell_type": "code",
   "execution_count": 2,
   "metadata": {},
   "outputs": [
    {
     "data": {
      "text/plain": [
       "array([ 1,  2, 10, 10, 10, 10, 10,  4,  5])"
      ]
     },
     "execution_count": 2,
     "metadata": {},
     "output_type": "execute_result"
    }
   ],
   "source": [
    "#exercicio 1\n",
    "arr = np.array([1, 2, 3,3,3,3,3, 4, 5])\n",
    "arr[arr == 3] = 10\n",
    "arr"
   ]
  },
  {
   "cell_type": "code",
   "execution_count": 3,
   "metadata": {},
   "outputs": [
    {
     "data": {
      "text/plain": [
       "array([3, 4, 5])"
      ]
     },
     "execution_count": 3,
     "metadata": {},
     "output_type": "execute_result"
    }
   ],
   "source": [
    "#exercicio 2\n",
    "arr1 = np.array([1, 2, 3, 4, 5])\n",
    "arr2 = np.array([3, 4, 5, 6, 7])\n",
    "np.intersect1d(arr1, arr2)"
   ]
  },
  {
   "cell_type": "code",
   "execution_count": 4,
   "metadata": {},
   "outputs": [
    {
     "data": {
      "text/plain": [
       "array([[1, 2, 3, 4],\n",
       "       [5, 6, 7, 8]])"
      ]
     },
     "execution_count": 4,
     "metadata": {},
     "output_type": "execute_result"
    }
   ],
   "source": [
    "#exercicio 3\n",
    "arr = np.array([1, 2, 3, 4, 5, 6, 7, 8])\n",
    "np.reshape(arr, (2,4))"
   ]
  },
  {
   "cell_type": "code",
   "execution_count": 5,
   "metadata": {},
   "outputs": [
    {
     "data": {
      "text/plain": [
       "array([1, 2, 3, 4, 5, 6])"
      ]
     },
     "execution_count": 5,
     "metadata": {},
     "output_type": "execute_result"
    }
   ],
   "source": [
    "#xercicio 4\n",
    "arr = np.array([1, 2, 2, 3, 4, 4, 5, 6, 6])\n",
    "np.unique(arr)"
   ]
  },
  {
   "cell_type": "code",
   "execution_count": 6,
   "metadata": {},
   "outputs": [
    {
     "data": {
      "text/plain": [
       "[array([1, 2, 3]), array([4, 5, 6, 7]), array([ 8,  9, 10])]"
      ]
     },
     "execution_count": 6,
     "metadata": {},
     "output_type": "execute_result"
    }
   ],
   "source": [
    "#exercicio 5\n",
    "arr = np.array([1, 2, 3, 4, 5, 6, 7, 8, 9, 10])\n",
    "np.split(arr,[3,7])"
   ]
  },
  {
   "cell_type": "code",
   "execution_count": 7,
   "metadata": {},
   "outputs": [
    {
     "data": {
      "text/plain": [
       "array([ 5, 12, 21, 32])"
      ]
     },
     "execution_count": 7,
     "metadata": {},
     "output_type": "execute_result"
    }
   ],
   "source": [
    "#exercicio 6\n",
    "arr1 = np.array([1, 2, 3, 4])\n",
    "arr2 = np.array([5, 6, 7, 8])\n",
    "arr1 * arr2"
   ]
  },
  {
   "cell_type": "markdown",
   "metadata": {},
   "source": [
    "--------------\n",
    "**Bora praticar!**  \n",
    "  \n",
    "Transforme o csv **dados_artificiais**, que está na pasta **dados**, para um numpy array (matriz)"
   ]
  },
  {
   "cell_type": "code",
   "execution_count": 8,
   "metadata": {},
   "outputs": [
    {
     "data": {
      "text/plain": [
       "array([[ 1.788811, 65.648102,  0.      ],\n",
       "       [ 1.566784, 76.642768,  0.      ],\n",
       "       [ 2.092193, 55.468185,  1.      ],\n",
       "       [ 1.782471, 67.281997,  1.      ],\n",
       "       [ 1.735767, 69.289008,  0.      ],\n",
       "       [ 1.686975, 56.840051,  0.      ],\n",
       "       [ 1.797105, 65.208973,  1.      ],\n",
       "       [ 1.187349, 48.164764,  0.      ],\n",
       "       [ 1.595891, 45.410648,  1.      ],\n",
       "       [ 1.396282, 67.930113,  0.      ],\n",
       "       [ 1.606148, 67.719604,  0.      ],\n",
       "       [ 1.70759 , 45.609333,  0.      ],\n",
       "       [ 1.735513, 64.845452,  0.      ],\n",
       "       [ 1.672055, 39.705952,  1.      ],\n",
       "       [ 1.723377, 50.05888 ,  1.      ],\n",
       "       [ 1.684574, 56.545087,  1.      ],\n",
       "       [ 1.733259, 37.512188,  0.      ],\n",
       "       [ 1.7579  , 57.362422,  0.      ],\n",
       "       [ 1.913338, 69.307246,  1.      ],\n",
       "       [ 1.456048, 69.342337,  0.      ]])"
      ]
     },
     "execution_count": 8,
     "metadata": {},
     "output_type": "execute_result"
    }
   ],
   "source": [
    "#altura | peso | sexo\n",
    "dados = np.loadtxt('dados_artificiais.txt', skiprows=1, dtype=float, usecols=(1,2,3))\n",
    "dados"
   ]
  },
  {
   "cell_type": "markdown",
   "metadata": {},
   "source": [
    "Agora utilize esta matriz para calcular o IMC, utilizando a equação\n",
    "\n",
    "```\n",
    "IMC = peso / altura**2\n",
    "```\n",
    "e insira na nova tabela"
   ]
  },
  {
   "cell_type": "code",
   "execution_count": 9,
   "metadata": {},
   "outputs": [
    {
     "data": {
      "text/plain": [
       "array([20.51602694, 31.22143968, 12.67186291, 21.17648757, 22.99754561,\n",
       "       19.97271779, 20.19112211, 34.16431009, 17.8299961 , 34.8430415 ,\n",
       "       26.25084498, 15.64179232, 21.52899612, 14.20216309, 16.85468124,\n",
       "       19.92575058, 12.48663648, 18.5626146 , 18.93194561, 32.70748042])"
      ]
     },
     "execution_count": 9,
     "metadata": {},
     "output_type": "execute_result"
    }
   ],
   "source": [
    "imc = np.array([dados[i][1] / (dados[i][0]**2) for i in range(len(dados))])\n",
    "imc"
   ]
  },
  {
   "cell_type": "code",
   "execution_count": 10,
   "metadata": {},
   "outputs": [
    {
     "data": {
      "text/plain": [
       "array([[ 1.788811  , 65.648102  ,  0.        , 20.51602694],\n",
       "       [ 1.566784  , 76.642768  ,  0.        , 31.22143968],\n",
       "       [ 2.092193  , 55.468185  ,  1.        , 12.67186291],\n",
       "       [ 1.782471  , 67.281997  ,  1.        , 21.17648757],\n",
       "       [ 1.735767  , 69.289008  ,  0.        , 22.99754561],\n",
       "       [ 1.686975  , 56.840051  ,  0.        , 19.97271779],\n",
       "       [ 1.797105  , 65.208973  ,  1.        , 20.19112211],\n",
       "       [ 1.187349  , 48.164764  ,  0.        , 34.16431009],\n",
       "       [ 1.595891  , 45.410648  ,  1.        , 17.8299961 ],\n",
       "       [ 1.396282  , 67.930113  ,  0.        , 34.8430415 ],\n",
       "       [ 1.606148  , 67.719604  ,  0.        , 26.25084498],\n",
       "       [ 1.70759   , 45.609333  ,  0.        , 15.64179232],\n",
       "       [ 1.735513  , 64.845452  ,  0.        , 21.52899612],\n",
       "       [ 1.672055  , 39.705952  ,  1.        , 14.20216309],\n",
       "       [ 1.723377  , 50.05888   ,  1.        , 16.85468124],\n",
       "       [ 1.684574  , 56.545087  ,  1.        , 19.92575058],\n",
       "       [ 1.733259  , 37.512188  ,  0.        , 12.48663648],\n",
       "       [ 1.7579    , 57.362422  ,  0.        , 18.5626146 ],\n",
       "       [ 1.913338  , 69.307246  ,  1.        , 18.93194561],\n",
       "       [ 1.456048  , 69.342337  ,  0.        , 32.70748042]])"
      ]
     },
     "execution_count": 10,
     "metadata": {},
     "output_type": "execute_result"
    }
   ],
   "source": [
    "dados_imc = np.column_stack((dados, imc))\n",
    "dados_imc"
   ]
  },
  {
   "cell_type": "markdown",
   "metadata": {},
   "source": [
    "| IMC             | Categoria           |   |\n",
    "|-----------------|---------------------|---|\n",
    "| abaixo de 16,00 | Baixo peso Grau III |   |\n",
    "| 16,00 a 16,99   | Baixo peso Grau II  |   |\n",
    "| 17,00 a 18.49   | Baixo peso Grau I   |   |\n",
    "| 18,50 a 24,99   | Peso ideal          |   |\n",
    "| 25,00 a 29,99   | Sobrepeso           |   |\n",
    "| 30,00 a 34,99   | Obesidade Grau I    |   |\n",
    "| 35,00 a 39,99   | Obesidade Grau II   |   |\n",
    "| 40,0 e acima    | Obesidade Grau III  |   |\n",
    "\n",
    "Agora utilize a tabela acima para indicar a qual categoria cada valor de IMC se enquadra. Insira novamente na tabela."
   ]
  },
  {
   "cell_type": "code",
   "execution_count": 11,
   "metadata": {},
   "outputs": [],
   "source": [
    "imc = dados_imc[:,-1]\n",
    "\n",
    "def classificar_imc(imc):\n",
    "    categorias = [\n",
    "        (\"Baixo peso Grau III\", lambda x: x < 16.00),\n",
    "        (\"Baixo peso Grau II\", lambda x: 16.00 <= x <= 16.99),\n",
    "        (\"Baixo peso Grau I\", lambda x: 17.00 <= x <= 18.49),\n",
    "        (\"Peso ideal\", lambda x: 18.50 <= x <= 24.99),\n",
    "        (\"Sobrepeso\", lambda x: 25.00 <= x <= 29.99),\n",
    "        (\"Obesidade Grau I\", lambda x: 30.00 <= x <= 34.99),\n",
    "        (\"Obesidade Grau II\", lambda x: 35.00 <= x <= 39.99),\n",
    "        (\"Obesidade Grau III\", lambda x: x >= 40.0)\n",
    "    ]\n",
    "\n",
    "    resultados = []\n",
    "    for valor in imc:\n",
    "        for categoria, condicao in categorias:\n",
    "            if condicao(valor):\n",
    "                resultados.append((valor, categoria))\n",
    "                \n",
    "\n",
    "    return np.array(resultados)\n",
    "\n",
    "class_imc = classificar_imc(imc)\n",
    "dados_imc = np.column_stack([dados_imc.astype(str), class_imc[:,1]])\n"
   ]
  },
  {
   "cell_type": "code",
   "execution_count": 12,
   "metadata": {},
   "outputs": [
    {
     "data": {
      "text/plain": [
       "array([['1.788811', '65.648102', '0.0', '20.516026942563006',\n",
       "        'Peso ideal'],\n",
       "       ['1.566784', '76.642768', '0.0', '31.221439684559105',\n",
       "        'Obesidade Grau I'],\n",
       "       ['2.092193', '55.468185', '1.0', '12.671862911844382',\n",
       "        'Baixo peso Grau III'],\n",
       "       ['1.782471', '67.281997', '1.0', '21.176487571306087',\n",
       "        'Peso ideal'],\n",
       "       ['1.735767', '69.289008', '0.0', '22.9975456097574', 'Peso ideal'],\n",
       "       ['1.686975', '56.840051', '0.0', '19.972717793575036',\n",
       "        'Peso ideal'],\n",
       "       ['1.797105', '65.208973', '1.0', '20.191122114932906',\n",
       "        'Peso ideal'],\n",
       "       ['1.187349', '48.164764', '0.0', '34.16431008742802',\n",
       "        'Obesidade Grau I'],\n",
       "       ['1.595891', '45.410648', '1.0', '17.829996098895624',\n",
       "        'Baixo peso Grau I'],\n",
       "       ['1.396282', '67.930113', '0.0', '34.84304150287812',\n",
       "        'Obesidade Grau I'],\n",
       "       ['1.606148', '67.719604', '0.0', '26.250844980187235',\n",
       "        'Sobrepeso'],\n",
       "       ['1.70759', '45.609333', '0.0', '15.641792322967879',\n",
       "        'Baixo peso Grau III'],\n",
       "       ['1.735513', '64.845452', '0.0', '21.52899612253168',\n",
       "        'Peso ideal'],\n",
       "       ['1.672055', '39.705952', '1.0', '14.202163088357656',\n",
       "        'Baixo peso Grau III'],\n",
       "       ['1.723377', '50.05888', '1.0', '16.854681239064504',\n",
       "        'Baixo peso Grau II'],\n",
       "       ['1.684574', '56.545087', '1.0', '19.925750579824385',\n",
       "        'Peso ideal'],\n",
       "       ['1.733259', '37.512188', '0.0', '12.486636478786007',\n",
       "        'Baixo peso Grau III'],\n",
       "       ['1.7579', '57.362422', '0.0', '18.56261460033422', 'Peso ideal'],\n",
       "       ['1.913338', '69.307246', '1.0', '18.931945612244615',\n",
       "        'Peso ideal'],\n",
       "       ['1.456048', '69.342337', '0.0', '32.707480416323556',\n",
       "        'Obesidade Grau I']], dtype='<U32')"
      ]
     },
     "execution_count": 12,
     "metadata": {},
     "output_type": "execute_result"
    }
   ],
   "source": [
    "dados_imc"
   ]
  },
  {
   "cell_type": "markdown",
   "metadata": {},
   "source": [
    "### criar a tabela e salvar o txt"
   ]
  },
  {
   "cell_type": "code",
   "execution_count": 13,
   "metadata": {},
   "outputs": [],
   "source": [
    "dados_num = dados_imc[:, :4].astype(float)\n",
    "dados_imc_final = np.column_stack((dados_num, dados_imc[:, 4]))\n",
    "\n",
    "np.savetxt(\"dados_imc.txt\", dados_imc_final, delimiter=' ', fmt='%s', header=\"altura  |  peso  |  sexo  |  imc  |  classificacao_imc\")"
   ]
  }
 ],
 "metadata": {
  "kernelspec": {
   "display_name": "Python 3",
   "language": "python",
   "name": "python3"
  },
  "language_info": {
   "codemirror_mode": {
    "name": "ipython",
    "version": 3
   },
   "file_extension": ".py",
   "mimetype": "text/x-python",
   "name": "python",
   "nbconvert_exporter": "python",
   "pygments_lexer": "ipython3",
   "version": "3.11.4"
  }
 },
 "nbformat": 4,
 "nbformat_minor": 2
}
